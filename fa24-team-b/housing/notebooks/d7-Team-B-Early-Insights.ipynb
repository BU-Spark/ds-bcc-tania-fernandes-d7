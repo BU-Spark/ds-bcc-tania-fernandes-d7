{
  "cells": [
    {
      "cell_type": "markdown",
      "metadata": {},
      "source": [
        "# District 7 Housing\n",
        "This project aims to conduct an in-depth data analysis of housing in District 7, which we initially considered to be ZIP code 02119, 02120, 02121, 02122, 02124, 02125, 02115, 02215, and 02118 because District 7 covers Dorchester, Roxbury, and part of Fenway and South End, and these zipcodes correspond to these neighbourhoods.\n",
        "\n",
        "The project explores property trend, violation statistics, income-restricted housing needs, and other housing-related questions in District 7. At the end, we will perform comparative analysis between District 7 and Boston. If time permits, we will also compare District 7 to Massachusetts."
      ]
    },
    {
      "cell_type": "markdown",
      "metadata": {
        "id": "n9qRj65rJwWh"
      },
      "source": [
        "## 1. Understanding of Datasets"
      ]
    },
    {
      "cell_type": "markdown",
      "metadata": {
        "id": "OEBR0JQzJwWi"
      },
      "source": [
        "We gathered data to address several housing-related questions posed by the councilor. For instance, we used Boston Census data to determine the number of housing units—both owner-occupied and renter-occupied—providing a clearer view of the housing situation in District 7."
      ]
    },
    {
      "cell_type": "markdown",
      "metadata": {
        "id": "3TOI58Q3JwWj"
      },
      "source": [
        "### 1.1 Income-Restricted Housing Inventory"
      ]
    },
    {
      "cell_type": "markdown",
      "metadata": {
        "id": "WIQxI83VJwWj"
      },
      "source": [
        "We found data on income-restricted housing, which refers to units designated as affordable for lower-income individuals or families. While this mainly applies to rental units, there are also cases where purchasing restrictions are applied through affordable housing programs.\n",
        "\n",
        "The councilor's questions focused on how the number of income-restricted units has changed over time, highlighting the growing difficulty people face in obtaining affordable housing and the need for government subsidies. We also addressed questions about Section 8 vouchers, a form of government assistance that helps low-income families, elderly individuals, and people with disabilities afford housing in the private market. Our analysis sought to determine how many units accept these vouchers, offering insight into the availability of subsidized housing."
      ]
    },
    {
      "cell_type": "markdown",
      "metadata": {},
      "source": [
        "##### Data Snapshot"
      ]
    },
    {
      "cell_type": "code",
      "execution_count": 6,
      "metadata": {},
      "outputs": [
        {
          "data": {
            "text/html": [
              "<div>\n",
              "<style scoped>\n",
              "    .dataframe tbody tr th:only-of-type {\n",
              "        vertical-align: middle;\n",
              "    }\n",
              "\n",
              "    .dataframe tbody tr th {\n",
              "        vertical-align: top;\n",
              "    }\n",
              "\n",
              "    .dataframe thead th {\n",
              "        text-align: right;\n",
              "    }\n",
              "</style>\n",
              "<table border=\"1\" class=\"dataframe\">\n",
              "  <thead>\n",
              "    <tr style=\"text-align: right;\">\n",
              "      <th></th>\n",
              "      <th>_id</th>\n",
              "      <th>Project_Name</th>\n",
              "      <th>Neighborhood</th>\n",
              "      <th>Zip Code</th>\n",
              "      <th>TtlProjUnits</th>\n",
              "      <th>RentUnits</th>\n",
              "      <th>OwnUnits</th>\n",
              "      <th>TtlMarket</th>\n",
              "      <th>MarketRent</th>\n",
              "      <th>MarketOwn</th>\n",
              "      <th>Total Income-Restricted</th>\n",
              "      <th>Income-Restricted Rental</th>\n",
              "      <th>Income-Restricted Ownership</th>\n",
              "      <th>Tenure</th>\n",
              "      <th>Public/ Private</th>\n",
              "      <th>Includes Senior Units?</th>\n",
              "      <th>Section 8</th>\n",
              "    </tr>\n",
              "  </thead>\n",
              "  <tbody>\n",
              "    <tr>\n",
              "      <th>0</th>\n",
              "      <td>1</td>\n",
              "      <td>Abbot Street/ Shawmut Ave</td>\n",
              "      <td>Roxbury</td>\n",
              "      <td>2119.0</td>\n",
              "      <td>16</td>\n",
              "      <td>16</td>\n",
              "      <td>0</td>\n",
              "      <td>0.0</td>\n",
              "      <td>0.0</td>\n",
              "      <td>0.0</td>\n",
              "      <td>16</td>\n",
              "      <td>16</td>\n",
              "      <td>0.0</td>\n",
              "      <td>Rental</td>\n",
              "      <td>Private</td>\n",
              "      <td>NaN</td>\n",
              "      <td>NaN</td>\n",
              "    </tr>\n",
              "    <tr>\n",
              "      <th>1</th>\n",
              "      <td>2</td>\n",
              "      <td>Academy Homes I</td>\n",
              "      <td>Roxbury</td>\n",
              "      <td>2119.0</td>\n",
              "      <td>202</td>\n",
              "      <td>202</td>\n",
              "      <td>0</td>\n",
              "      <td>52.0</td>\n",
              "      <td>52.0</td>\n",
              "      <td>0.0</td>\n",
              "      <td>150</td>\n",
              "      <td>150</td>\n",
              "      <td>0.0</td>\n",
              "      <td>Rental</td>\n",
              "      <td>Private</td>\n",
              "      <td>NaN</td>\n",
              "      <td>NaN</td>\n",
              "    </tr>\n",
              "    <tr>\n",
              "      <th>2</th>\n",
              "      <td>3</td>\n",
              "      <td>Academy Homes II</td>\n",
              "      <td>Roxbury</td>\n",
              "      <td>2119.0</td>\n",
              "      <td>236</td>\n",
              "      <td>236</td>\n",
              "      <td>0</td>\n",
              "      <td>0.0</td>\n",
              "      <td>0.0</td>\n",
              "      <td>0.0</td>\n",
              "      <td>236</td>\n",
              "      <td>236</td>\n",
              "      <td>0.0</td>\n",
              "      <td>Rental</td>\n",
              "      <td>Private</td>\n",
              "      <td>NaN</td>\n",
              "      <td>Y</td>\n",
              "    </tr>\n",
              "    <tr>\n",
              "      <th>3</th>\n",
              "      <td>4</td>\n",
              "      <td>Adams Court Phase A</td>\n",
              "      <td>Mattapan</td>\n",
              "      <td>2126.0</td>\n",
              "      <td>50</td>\n",
              "      <td>50</td>\n",
              "      <td>0</td>\n",
              "      <td>0.0</td>\n",
              "      <td>0.0</td>\n",
              "      <td>0.0</td>\n",
              "      <td>50</td>\n",
              "      <td>50</td>\n",
              "      <td>0.0</td>\n",
              "      <td>Rental</td>\n",
              "      <td>Private</td>\n",
              "      <td>NaN</td>\n",
              "      <td>NaN</td>\n",
              "    </tr>\n",
              "    <tr>\n",
              "      <th>4</th>\n",
              "      <td>5</td>\n",
              "      <td>Adams Court Phase B</td>\n",
              "      <td>Mattapan</td>\n",
              "      <td>2126.0</td>\n",
              "      <td>45</td>\n",
              "      <td>45</td>\n",
              "      <td>0</td>\n",
              "      <td>0.0</td>\n",
              "      <td>0.0</td>\n",
              "      <td>0.0</td>\n",
              "      <td>45</td>\n",
              "      <td>45</td>\n",
              "      <td>0.0</td>\n",
              "      <td>Rental</td>\n",
              "      <td>Private</td>\n",
              "      <td>NaN</td>\n",
              "      <td>NaN</td>\n",
              "    </tr>\n",
              "  </tbody>\n",
              "</table>\n",
              "</div>"
            ],
            "text/plain": [
              "   _id               Project_Name Neighborhood  Zip Code  TtlProjUnits  \\\n",
              "0    1  Abbot Street/ Shawmut Ave      Roxbury    2119.0            16   \n",
              "1    2            Academy Homes I      Roxbury    2119.0           202   \n",
              "2    3           Academy Homes II      Roxbury    2119.0           236   \n",
              "3    4        Adams Court Phase A     Mattapan    2126.0            50   \n",
              "4    5        Adams Court Phase B     Mattapan    2126.0            45   \n",
              "\n",
              "   RentUnits  OwnUnits  TtlMarket  MarketRent  MarketOwn  \\\n",
              "0         16         0        0.0         0.0        0.0   \n",
              "1        202         0       52.0        52.0        0.0   \n",
              "2        236         0        0.0         0.0        0.0   \n",
              "3         50         0        0.0         0.0        0.0   \n",
              "4         45         0        0.0         0.0        0.0   \n",
              "\n",
              "   Total Income-Restricted  Income-Restricted Rental  \\\n",
              "0                       16                        16   \n",
              "1                      150                       150   \n",
              "2                      236                       236   \n",
              "3                       50                        50   \n",
              "4                       45                        45   \n",
              "\n",
              "   Income-Restricted Ownership  Tenure Public/ Private Includes Senior Units?  \\\n",
              "0                          0.0  Rental         Private                    NaN   \n",
              "1                          0.0  Rental         Private                    NaN   \n",
              "2                          0.0  Rental         Private                    NaN   \n",
              "3                          0.0  Rental         Private                    NaN   \n",
              "4                          0.0  Rental         Private                    NaN   \n",
              "\n",
              "  Section 8  \n",
              "0       NaN  \n",
              "1       NaN  \n",
              "2         Y  \n",
              "3       NaN  \n",
              "4       NaN  "
            ]
          },
          "execution_count": 6,
          "metadata": {},
          "output_type": "execute_result"
        }
      ],
      "source": [
        "import pandas as pd\n",
        "import numpy as np\n",
        "\n",
        "restricted_housing_df = pd.read_csv(\"../data/income_restricted/income_restricted_2022.csv\")\n",
        "restricted_housing_df.head(5)"
      ]
    },
    {
      "cell_type": "markdown",
      "metadata": {
        "id": "WVYiAqx1JwWj"
      },
      "source": [
        "### 1.2 RentSmart"
      ]
    },
    {
      "cell_type": "markdown",
      "metadata": {
        "id": "WZr7lWZQJwWk"
      },
      "source": [
        "We utilized the RentSmart dataset for an in-depth analysis of inspectional services, which enforce building, housing, health, and environmental regulations to protect public health and safety. The dataset, ranging from 2016 to 2024, includes information such as violation types, addresses, neighborhoods, zip codes, and property characteristics (e.g., building and remodel years).\n",
        "\n",
        "From this data, we can analyze how total violations and properties have changed over time, exploring correlations between them. Preliminary analysis indicates enforcement violations are the most common and have fluctuated significantly since 2020. Notably, households with three residents are the most prevalent across all areas in District 7. This allows us to identify which violations are under control and which require more attention, while considering the number of residents per household."
      ]
    },
    {
      "cell_type": "markdown",
      "metadata": {},
      "source": [
        "##### Data Snapshot"
      ]
    },
    {
      "cell_type": "code",
      "execution_count": 7,
      "metadata": {},
      "outputs": [
        {
          "data": {
            "text/html": [
              "<div>\n",
              "<style scoped>\n",
              "    .dataframe tbody tr th:only-of-type {\n",
              "        vertical-align: middle;\n",
              "    }\n",
              "\n",
              "    .dataframe tbody tr th {\n",
              "        vertical-align: top;\n",
              "    }\n",
              "\n",
              "    .dataframe thead th {\n",
              "        text-align: right;\n",
              "    }\n",
              "</style>\n",
              "<table border=\"1\" class=\"dataframe\">\n",
              "  <thead>\n",
              "    <tr style=\"text-align: right;\">\n",
              "      <th></th>\n",
              "      <th>date</th>\n",
              "      <th>violation_type</th>\n",
              "      <th>description</th>\n",
              "      <th>address</th>\n",
              "      <th>neighborhood</th>\n",
              "      <th>zip_code</th>\n",
              "      <th>parcel</th>\n",
              "      <th>owner</th>\n",
              "      <th>year_built</th>\n",
              "      <th>year_remodeled</th>\n",
              "      <th>property_type</th>\n",
              "      <th>latitude</th>\n",
              "      <th>longitude</th>\n",
              "    </tr>\n",
              "  </thead>\n",
              "  <tbody>\n",
              "    <tr>\n",
              "      <th>0</th>\n",
              "      <td>2024-11-19 00:00:00+00</td>\n",
              "      <td>Enforcement Violations</td>\n",
              "      <td>Improper storage trash: res</td>\n",
              "      <td>741 E Sixth St, 02127</td>\n",
              "      <td>South Boston</td>\n",
              "      <td>2127</td>\n",
              "      <td>604127001</td>\n",
              "      <td>EAST SIXTH LTD PARTNERSHIP MASS LP</td>\n",
              "      <td>1965.0</td>\n",
              "      <td>1990.0</td>\n",
              "      <td>Mixed Use (Res. and Comm.)</td>\n",
              "      <td>42.333009</td>\n",
              "      <td>-71.030950</td>\n",
              "    </tr>\n",
              "    <tr>\n",
              "      <th>1</th>\n",
              "      <td>2024-11-19 00:00:00+00</td>\n",
              "      <td>Enforcement Violations</td>\n",
              "      <td>Overfilling of barrel/dumpster</td>\n",
              "      <td>741 E Sixth St, 02127</td>\n",
              "      <td>South Boston</td>\n",
              "      <td>2127</td>\n",
              "      <td>604127001</td>\n",
              "      <td>EAST SIXTH LTD PARTNERSHIP MASS LP</td>\n",
              "      <td>1965.0</td>\n",
              "      <td>1990.0</td>\n",
              "      <td>Mixed Use (Res. and Comm.)</td>\n",
              "      <td>42.333009</td>\n",
              "      <td>-71.030950</td>\n",
              "    </tr>\n",
              "    <tr>\n",
              "      <th>2</th>\n",
              "      <td>2024-11-19 00:00:00+00</td>\n",
              "      <td>Enforcement Violations</td>\n",
              "      <td>Improper storage trash: res</td>\n",
              "      <td>92-94 Esmond St, 02121</td>\n",
              "      <td>Dorchester</td>\n",
              "      <td>2121</td>\n",
              "      <td>1402690000</td>\n",
              "      <td>WAYNE AT BICKNELL LLC</td>\n",
              "      <td>1920.0</td>\n",
              "      <td>2018.0</td>\n",
              "      <td>Residential 7 or more units</td>\n",
              "      <td>42.296860</td>\n",
              "      <td>-71.083371</td>\n",
              "    </tr>\n",
              "    <tr>\n",
              "      <th>3</th>\n",
              "      <td>2024-11-19 00:00:00+00</td>\n",
              "      <td>Enforcement Violations</td>\n",
              "      <td>Improper storage trash: res</td>\n",
              "      <td>84 Esmond St, 02121</td>\n",
              "      <td>Dorchester</td>\n",
              "      <td>2121</td>\n",
              "      <td>1402692000</td>\n",
              "      <td>ALLEN &amp; HANDY INVESTMENTS  LLC</td>\n",
              "      <td>1895.0</td>\n",
              "      <td>2010.0</td>\n",
              "      <td>Residential 3-family</td>\n",
              "      <td>42.297150</td>\n",
              "      <td>-71.083501</td>\n",
              "    </tr>\n",
              "    <tr>\n",
              "      <th>4</th>\n",
              "      <td>2024-11-19 00:00:00+00</td>\n",
              "      <td>Enforcement Violations</td>\n",
              "      <td>Improper storage trash: res</td>\n",
              "      <td>7 Aberdeen St, 02215</td>\n",
              "      <td>Boston</td>\n",
              "      <td>2215</td>\n",
              "      <td>2100139000</td>\n",
              "      <td>SEVEN 21 ABERDEEN STREET</td>\n",
              "      <td>1999.0</td>\n",
              "      <td>1999.0</td>\n",
              "      <td>Condominium Main*</td>\n",
              "      <td>42.346420</td>\n",
              "      <td>-71.104031</td>\n",
              "    </tr>\n",
              "  </tbody>\n",
              "</table>\n",
              "</div>"
            ],
            "text/plain": [
              "                     date          violation_type  \\\n",
              "0  2024-11-19 00:00:00+00  Enforcement Violations   \n",
              "1  2024-11-19 00:00:00+00  Enforcement Violations   \n",
              "2  2024-11-19 00:00:00+00  Enforcement Violations   \n",
              "3  2024-11-19 00:00:00+00  Enforcement Violations   \n",
              "4  2024-11-19 00:00:00+00  Enforcement Violations   \n",
              "\n",
              "                      description                 address  neighborhood  \\\n",
              "0     Improper storage trash: res   741 E Sixth St, 02127  South Boston   \n",
              "1  Overfilling of barrel/dumpster   741 E Sixth St, 02127  South Boston   \n",
              "2     Improper storage trash: res  92-94 Esmond St, 02121    Dorchester   \n",
              "3     Improper storage trash: res     84 Esmond St, 02121    Dorchester   \n",
              "4     Improper storage trash: res    7 Aberdeen St, 02215        Boston   \n",
              "\n",
              "   zip_code      parcel                               owner  year_built  \\\n",
              "0      2127   604127001  EAST SIXTH LTD PARTNERSHIP MASS LP      1965.0   \n",
              "1      2127   604127001  EAST SIXTH LTD PARTNERSHIP MASS LP      1965.0   \n",
              "2      2121  1402690000               WAYNE AT BICKNELL LLC      1920.0   \n",
              "3      2121  1402692000      ALLEN & HANDY INVESTMENTS  LLC      1895.0   \n",
              "4      2215  2100139000            SEVEN 21 ABERDEEN STREET      1999.0   \n",
              "\n",
              "   year_remodeled                property_type   latitude  longitude  \n",
              "0          1990.0   Mixed Use (Res. and Comm.)  42.333009 -71.030950  \n",
              "1          1990.0   Mixed Use (Res. and Comm.)  42.333009 -71.030950  \n",
              "2          2018.0  Residential 7 or more units  42.296860 -71.083371  \n",
              "3          2010.0         Residential 3-family  42.297150 -71.083501  \n",
              "4          1999.0            Condominium Main*  42.346420 -71.104031  "
            ]
          },
          "execution_count": 7,
          "metadata": {},
          "output_type": "execute_result"
        }
      ],
      "source": [
        "rentsmart_df = pd.read_csv(\"../data/all-rentsmart.csv\")\n",
        "rentsmart_df.head(5)"
      ]
    },
    {
      "cell_type": "markdown",
      "metadata": {
        "id": "T9QW-s7NJwWk"
      },
      "source": [
        "### 1.3 Boston Census"
      ]
    },
    {
      "cell_type": "markdown",
      "metadata": {
        "id": "8msJkvnPJwWl"
      },
      "source": [
        "This comprehensive dataset contains detailed housing occupancy information, including the number of units per structure, the number of rooms, ownership status, and utilities. Using this data, we can examine housing density and distribution across District 7, compare it with other districts, and assess housing affordability and availability across neighborhoods. Additionally, we can study occupancy and ownership trends, as well as analyze neighborhood infrastructure and utility needs—valuable insights for future urban planning and development in District 7."
      ]
    },
    {
      "cell_type": "markdown",
      "metadata": {},
      "source": [
        "##### Data Snapshot"
      ]
    },
    {
      "cell_type": "code",
      "execution_count": 8,
      "metadata": {},
      "outputs": [
        {
          "data": {
            "text/html": [
              "<div>\n",
              "<style scoped>\n",
              "    .dataframe tbody tr th:only-of-type {\n",
              "        vertical-align: middle;\n",
              "    }\n",
              "\n",
              "    .dataframe tbody tr th {\n",
              "        vertical-align: top;\n",
              "    }\n",
              "\n",
              "    .dataframe thead th {\n",
              "        text-align: right;\n",
              "    }\n",
              "</style>\n",
              "<table border=\"1\" class=\"dataframe\">\n",
              "  <thead>\n",
              "    <tr style=\"text-align: right;\">\n",
              "      <th></th>\n",
              "      <th>GEO_ID</th>\n",
              "      <th>NAME</th>\n",
              "      <th>DP04_0001E</th>\n",
              "      <th>DP04_0001M</th>\n",
              "      <th>DP04_0002E</th>\n",
              "      <th>DP04_0002M</th>\n",
              "      <th>DP04_0003E</th>\n",
              "      <th>DP04_0003M</th>\n",
              "      <th>DP04_0004E</th>\n",
              "      <th>DP04_0004M</th>\n",
              "      <th>...</th>\n",
              "      <th>DP04_0139PM</th>\n",
              "      <th>DP04_0140PE</th>\n",
              "      <th>DP04_0140PM</th>\n",
              "      <th>DP04_0141PE</th>\n",
              "      <th>DP04_0141PM</th>\n",
              "      <th>DP04_0142PE</th>\n",
              "      <th>DP04_0142PM</th>\n",
              "      <th>DP04_0143PE</th>\n",
              "      <th>DP04_0143PM</th>\n",
              "      <th>Unnamed: 574</th>\n",
              "    </tr>\n",
              "  </thead>\n",
              "  <tbody>\n",
              "    <tr>\n",
              "      <th>0</th>\n",
              "      <td>Geography</td>\n",
              "      <td>Geographic Area Name</td>\n",
              "      <td>Estimate!!HOUSING OCCUPANCY!!Total housing units</td>\n",
              "      <td>Margin of Error!!HOUSING OCCUPANCY!!Total hous...</td>\n",
              "      <td>Estimate!!HOUSING OCCUPANCY!!Total housing uni...</td>\n",
              "      <td>Margin of Error!!HOUSING OCCUPANCY!!Total hous...</td>\n",
              "      <td>Estimate!!HOUSING OCCUPANCY!!Total housing uni...</td>\n",
              "      <td>Margin of Error!!HOUSING OCCUPANCY!!Total hous...</td>\n",
              "      <td>Estimate!!HOUSING OCCUPANCY!!Total housing uni...</td>\n",
              "      <td>Margin of Error!!HOUSING OCCUPANCY!!Total hous...</td>\n",
              "      <td>...</td>\n",
              "      <td>Percent Margin of Error!!GROSS RENT AS A PERCE...</td>\n",
              "      <td>Percent!!GROSS RENT AS A PERCENTAGE OF HOUSEHO...</td>\n",
              "      <td>Percent Margin of Error!!GROSS RENT AS A PERCE...</td>\n",
              "      <td>Percent!!GROSS RENT AS A PERCENTAGE OF HOUSEHO...</td>\n",
              "      <td>Percent Margin of Error!!GROSS RENT AS A PERCE...</td>\n",
              "      <td>Percent!!GROSS RENT AS A PERCENTAGE OF HOUSEHO...</td>\n",
              "      <td>Percent Margin of Error!!GROSS RENT AS A PERCE...</td>\n",
              "      <td>Percent!!GROSS RENT AS A PERCENTAGE OF HOUSEHO...</td>\n",
              "      <td>Percent Margin of Error!!GROSS RENT AS A PERCE...</td>\n",
              "      <td>NaN</td>\n",
              "    </tr>\n",
              "    <tr>\n",
              "      <th>1</th>\n",
              "      <td>860Z200US02115</td>\n",
              "      <td>ZCTA5 02115</td>\n",
              "      <td>11282</td>\n",
              "      <td>593</td>\n",
              "      <td>9845</td>\n",
              "      <td>555</td>\n",
              "      <td>1437</td>\n",
              "      <td>296</td>\n",
              "      <td>3.6</td>\n",
              "      <td>3.8</td>\n",
              "      <td>...</td>\n",
              "      <td>2.5</td>\n",
              "      <td>11.4</td>\n",
              "      <td>2.8</td>\n",
              "      <td>9.5</td>\n",
              "      <td>2.4</td>\n",
              "      <td>49.0</td>\n",
              "      <td>5.2</td>\n",
              "      <td>(X)</td>\n",
              "      <td>(X)</td>\n",
              "      <td>NaN</td>\n",
              "    </tr>\n",
              "    <tr>\n",
              "      <th>2</th>\n",
              "      <td>860Z200US02116</td>\n",
              "      <td>ZCTA5 02116</td>\n",
              "      <td>14284</td>\n",
              "      <td>625</td>\n",
              "      <td>11915</td>\n",
              "      <td>581</td>\n",
              "      <td>2369</td>\n",
              "      <td>368</td>\n",
              "      <td>2.2</td>\n",
              "      <td>2.6</td>\n",
              "      <td>...</td>\n",
              "      <td>3.4</td>\n",
              "      <td>11.8</td>\n",
              "      <td>2.7</td>\n",
              "      <td>9.1</td>\n",
              "      <td>2.5</td>\n",
              "      <td>37.9</td>\n",
              "      <td>4.6</td>\n",
              "      <td>(X)</td>\n",
              "      <td>(X)</td>\n",
              "      <td>NaN</td>\n",
              "    </tr>\n",
              "    <tr>\n",
              "      <th>3</th>\n",
              "      <td>860Z200US02118</td>\n",
              "      <td>ZCTA5 02118</td>\n",
              "      <td>15502</td>\n",
              "      <td>674</td>\n",
              "      <td>14133</td>\n",
              "      <td>694</td>\n",
              "      <td>1369</td>\n",
              "      <td>290</td>\n",
              "      <td>1.2</td>\n",
              "      <td>1.2</td>\n",
              "      <td>...</td>\n",
              "      <td>2.1</td>\n",
              "      <td>16.1</td>\n",
              "      <td>3.5</td>\n",
              "      <td>11.1</td>\n",
              "      <td>2.3</td>\n",
              "      <td>40.1</td>\n",
              "      <td>4.2</td>\n",
              "      <td>(X)</td>\n",
              "      <td>(X)</td>\n",
              "      <td>NaN</td>\n",
              "    </tr>\n",
              "    <tr>\n",
              "      <th>4</th>\n",
              "      <td>860Z200US02119</td>\n",
              "      <td>ZCTA5 02119</td>\n",
              "      <td>12916</td>\n",
              "      <td>595</td>\n",
              "      <td>11823</td>\n",
              "      <td>612</td>\n",
              "      <td>1093</td>\n",
              "      <td>252</td>\n",
              "      <td>0.7</td>\n",
              "      <td>0.8</td>\n",
              "      <td>...</td>\n",
              "      <td>2.6</td>\n",
              "      <td>9.5</td>\n",
              "      <td>2.6</td>\n",
              "      <td>12.5</td>\n",
              "      <td>3.4</td>\n",
              "      <td>51.3</td>\n",
              "      <td>4.0</td>\n",
              "      <td>(X)</td>\n",
              "      <td>(X)</td>\n",
              "      <td>NaN</td>\n",
              "    </tr>\n",
              "  </tbody>\n",
              "</table>\n",
              "<p>5 rows × 575 columns</p>\n",
              "</div>"
            ],
            "text/plain": [
              "           GEO_ID                  NAME  \\\n",
              "0       Geography  Geographic Area Name   \n",
              "1  860Z200US02115           ZCTA5 02115   \n",
              "2  860Z200US02116           ZCTA5 02116   \n",
              "3  860Z200US02118           ZCTA5 02118   \n",
              "4  860Z200US02119           ZCTA5 02119   \n",
              "\n",
              "                                         DP04_0001E  \\\n",
              "0  Estimate!!HOUSING OCCUPANCY!!Total housing units   \n",
              "1                                             11282   \n",
              "2                                             14284   \n",
              "3                                             15502   \n",
              "4                                             12916   \n",
              "\n",
              "                                          DP04_0001M  \\\n",
              "0  Margin of Error!!HOUSING OCCUPANCY!!Total hous...   \n",
              "1                                                593   \n",
              "2                                                625   \n",
              "3                                                674   \n",
              "4                                                595   \n",
              "\n",
              "                                          DP04_0002E  \\\n",
              "0  Estimate!!HOUSING OCCUPANCY!!Total housing uni...   \n",
              "1                                               9845   \n",
              "2                                              11915   \n",
              "3                                              14133   \n",
              "4                                              11823   \n",
              "\n",
              "                                          DP04_0002M  \\\n",
              "0  Margin of Error!!HOUSING OCCUPANCY!!Total hous...   \n",
              "1                                                555   \n",
              "2                                                581   \n",
              "3                                                694   \n",
              "4                                                612   \n",
              "\n",
              "                                          DP04_0003E  \\\n",
              "0  Estimate!!HOUSING OCCUPANCY!!Total housing uni...   \n",
              "1                                               1437   \n",
              "2                                               2369   \n",
              "3                                               1369   \n",
              "4                                               1093   \n",
              "\n",
              "                                          DP04_0003M  \\\n",
              "0  Margin of Error!!HOUSING OCCUPANCY!!Total hous...   \n",
              "1                                                296   \n",
              "2                                                368   \n",
              "3                                                290   \n",
              "4                                                252   \n",
              "\n",
              "                                          DP04_0004E  \\\n",
              "0  Estimate!!HOUSING OCCUPANCY!!Total housing uni...   \n",
              "1                                                3.6   \n",
              "2                                                2.2   \n",
              "3                                                1.2   \n",
              "4                                                0.7   \n",
              "\n",
              "                                          DP04_0004M  ...  \\\n",
              "0  Margin of Error!!HOUSING OCCUPANCY!!Total hous...  ...   \n",
              "1                                                3.8  ...   \n",
              "2                                                2.6  ...   \n",
              "3                                                1.2  ...   \n",
              "4                                                0.8  ...   \n",
              "\n",
              "                                         DP04_0139PM  \\\n",
              "0  Percent Margin of Error!!GROSS RENT AS A PERCE...   \n",
              "1                                                2.5   \n",
              "2                                                3.4   \n",
              "3                                                2.1   \n",
              "4                                                2.6   \n",
              "\n",
              "                                         DP04_0140PE  \\\n",
              "0  Percent!!GROSS RENT AS A PERCENTAGE OF HOUSEHO...   \n",
              "1                                               11.4   \n",
              "2                                               11.8   \n",
              "3                                               16.1   \n",
              "4                                                9.5   \n",
              "\n",
              "                                         DP04_0140PM  \\\n",
              "0  Percent Margin of Error!!GROSS RENT AS A PERCE...   \n",
              "1                                                2.8   \n",
              "2                                                2.7   \n",
              "3                                                3.5   \n",
              "4                                                2.6   \n",
              "\n",
              "                                         DP04_0141PE  \\\n",
              "0  Percent!!GROSS RENT AS A PERCENTAGE OF HOUSEHO...   \n",
              "1                                                9.5   \n",
              "2                                                9.1   \n",
              "3                                               11.1   \n",
              "4                                               12.5   \n",
              "\n",
              "                                         DP04_0141PM  \\\n",
              "0  Percent Margin of Error!!GROSS RENT AS A PERCE...   \n",
              "1                                                2.4   \n",
              "2                                                2.5   \n",
              "3                                                2.3   \n",
              "4                                                3.4   \n",
              "\n",
              "                                         DP04_0142PE  \\\n",
              "0  Percent!!GROSS RENT AS A PERCENTAGE OF HOUSEHO...   \n",
              "1                                               49.0   \n",
              "2                                               37.9   \n",
              "3                                               40.1   \n",
              "4                                               51.3   \n",
              "\n",
              "                                         DP04_0142PM  \\\n",
              "0  Percent Margin of Error!!GROSS RENT AS A PERCE...   \n",
              "1                                                5.2   \n",
              "2                                                4.6   \n",
              "3                                                4.2   \n",
              "4                                                4.0   \n",
              "\n",
              "                                         DP04_0143PE  \\\n",
              "0  Percent!!GROSS RENT AS A PERCENTAGE OF HOUSEHO...   \n",
              "1                                                (X)   \n",
              "2                                                (X)   \n",
              "3                                                (X)   \n",
              "4                                                (X)   \n",
              "\n",
              "                                         DP04_0143PM Unnamed: 574  \n",
              "0  Percent Margin of Error!!GROSS RENT AS A PERCE...          NaN  \n",
              "1                                                (X)          NaN  \n",
              "2                                                (X)          NaN  \n",
              "3                                                (X)          NaN  \n",
              "4                                                (X)          NaN  \n",
              "\n",
              "[5 rows x 575 columns]"
            ]
          },
          "execution_count": 8,
          "metadata": {},
          "output_type": "execute_result"
        }
      ],
      "source": [
        "census_df = pd.read_csv(\"../data/census/ACSDP5Y2022.DP04-Data.csv\")\n",
        "census_df.head(5)"
      ]
    },
    {
      "cell_type": "markdown",
      "metadata": {
        "id": "Npoy-zqFJwWl"
      },
      "source": [
        "## 2. Data Cleaning and Preprocessing"
      ]
    },
    {
      "cell_type": "markdown",
      "metadata": {
        "id": "z4QaqYVNJwWl"
      },
      "source": [
        "### 2.1 Income-Restricted Housing Dataset"
      ]
    },
    {
      "cell_type": "markdown",
      "metadata": {
        "id": "VvlDpMBXJwWm"
      },
      "source": [
        "While cleaning the income-restricted housing dataset, we experimented with various methods before settling on the following approach:\n",
        "\n",
        "- We dropped missing data points, as they accounted for less than 5% of the dataset.\n",
        "\n",
        "- The ZIP code column initially contained floating-point numbers. We corrected this by converting the values to integers, then to strings, and finally added leading zeros for proper ZIP code formatting.\n",
        "\n",
        "- We filtered the data by the ZIP codes associated with District 7's neighborhoods. Some ZIP codes were shared with neighborhoods outside the councilor's jurisdiction, so we further refined the dataset by cleaning and standardizing neighborhood names before filtering for the relevant ones."
      ]
    },
    {
      "cell_type": "code",
      "execution_count": 9,
      "metadata": {},
      "outputs": [
        {
          "data": {
            "image/png": "[encoded data removed]",
            "text/plain": [
              "<Figure size 1200x800 with 1 Axes>"
            ]
          },
          "metadata": {},
          "output_type": "display_data"
        }
      ],
      "source": [
        "import matplotlib.pyplot as plt\n",
        "\n",
        "plt.figure(figsize=(12,8))\n",
        "\n",
        "restricted_housing_df.dropna(subset=[\"Zip Code\"], inplace=True)\n",
        "restricted_housing_df[\"Zip Code\"] = restricted_housing_df[\"Zip Code\"].astype(int).astype(str).str.zfill(5)\n",
        "restricted_housing_count_df = restricted_housing_df.groupby(\"Zip Code\")[\"_id\"].count().sort_values(ascending=False)\n",
        "restricted_housing_count_df.plot(x=\"Zip Code\", y=\"_id\", kind=\"bar\")\n",
        "\n",
        "plt.title(\"Count of Restricted Housing by Zip Code in 2022\")\n",
        "plt.xlabel(\"Zip Code\")\n",
        "plt.ylabel(\"Count of Restricted Housing Units\")\n",
        "\n",
        "plt.xticks(rotation=45)\n",
        "plt.show()"
      ]
    },
    {
      "cell_type": "markdown",
      "metadata": {},
      "source": [
        "02119 and 02124 appears to have the most number of income restricted housing projects in this dataset in 2022."
      ]
    },
    {
      "cell_type": "markdown",
      "metadata": {},
      "source": [
        "For further details of our preliminary analysis of the income restricted housing dataset, please refer to this [notebook](https://github.com/BU-Spark/ds-bcc-tania-fernandes-d7/blob/district7_teamB/fa24-team-b/housing/notebooks/income_restricted_housing/income_restricted_housing.ipynb)."
      ]
    },
    {
      "cell_type": "markdown",
      "metadata": {
        "id": "jD97cPKhJwWm"
      },
      "source": [
        "### 2.2 RentSmart Dataset"
      ]
    },
    {
      "cell_type": "markdown",
      "metadata": {
        "id": "UX-VES8iJwWm"
      },
      "source": [
        "To clean the RentSmart dataset, we applied the following steps:\n",
        "\n",
        "- The date column included unnecessary time information, so we removed the hours, minutes, and seconds, retaining only the year, month, and day.\n",
        "\n",
        "- In the description column, we grouped similar violation descriptions. For example, \"Work without permit\" and \"Work w/o Permit\" were merged into \"Work Without Permit.\"\n",
        "\n",
        "- ZIP codes were missing leading zeros, and the year-built and year-remodeled columns contained extraneous \".0\" values, so we reformatted them accordingly.\n",
        "\n",
        "- We filtered the data by ZIP code and neighborhood, following the same approach used for the income-restricted housing dataset to ensure that only District 7 data was included."
      ]
    },
    {
      "cell_type": "code",
      "execution_count": 10,
      "metadata": {},
      "outputs": [
        {
          "data": {
            "image/png": "[encoded data removed]",
            "text/plain": [
              "<Figure size 1500x800 with 1 Axes>"
            ]
          },
          "metadata": {},
          "output_type": "display_data"
        }
      ],
      "source": [
        "plt.figure(figsize=(15,8))\n",
        "\n",
        "rentsmart_count_df = rentsmart_df.groupby(\"violation_type\")[\"address\"].count().sort_values(ascending=False)\n",
        "rentsmart_count_df.plot(x=\"violation_type\", y=\"address\", kind=\"bar\")\n",
        "\n",
        "plt.title(\"Distribution of Violation Types in Boston\")\n",
        "plt.xlabel(\"Violation Type\")\n",
        "plt.ylabel(\"Count of Violation Type\")\n",
        "\n",
        "plt.xticks(rotation=0)\n",
        "plt.show()"
      ]
    },
    {
      "cell_type": "markdown",
      "metadata": {},
      "source": [
        "Enforcement violation is the most common type of violations Boston City-wide."
      ]
    },
    {
      "cell_type": "markdown",
      "metadata": {},
      "source": [
        "For further details of our preliminary analysis of the RentSmart dataset, please refer to this [notebook](https://github.com/BU-Spark/ds-bcc-tania-fernandes-d7/blob/district7_teamB/fa24-team-b/housing/notebooks/d7-rentsmart.ipynb)."
      ]
    },
    {
      "cell_type": "markdown",
      "metadata": {
        "id": "iqHnq45XJwWm"
      },
      "source": [
        "### 2.3 Boston Census Dataset"
      ]
    },
    {
      "cell_type": "markdown",
      "metadata": {
        "id": "GjCS9oOtJwWm"
      },
      "source": [
        "In our initial preprocessing of the Boston Census dataset, we took the following steps:\n",
        "\n",
        "- We selected the relevant ZIP codes for District 7 and downloaded housing data for the years 2011 to 2022. Although we expected a single dataset, we received 12 datasets (one per year), each containing over 500 columns.\n",
        "\n",
        "- Each dataset had 4 sub-columns for each primary column: estimates, margins of error, percentages, and percentage margins of error. For preprocessing, we focused on the estimate and percentage columns.\n",
        "\n",
        "- The column names were complex and difficult to interpret. For example, the column for the estimated total number of housing units was labeled \"Estimate!!HOUSING OCCUPANCY!!Total housing units.\" We are working on cleaning these column names to make them more readable and consistent across datasets.\n",
        "\n",
        "- We aim to consolidate the data from multiple years into a single dataset for year-by-year comparisons across ZIP codes."
      ]
    },
    {
      "cell_type": "code",
      "execution_count": 11,
      "metadata": {},
      "outputs": [
        {
          "data": {
            "image/png": "[encoded data removed]",
            "text/plain": [
              "<Figure size 2000x800 with 1 Axes>"
            ]
          },
          "metadata": {},
          "output_type": "display_data"
        }
      ],
      "source": [
        "plt.figure(figsize=(20,8))\n",
        "\n",
        "census_count_df = census_df[1:][[\"NAME\",\"DP04_0001E\"]]\n",
        "census_count_df[\"NAME\"] = census_count_df[\"NAME\"].str[6:]\n",
        "census_count_df[\"DP04_0001E\"] = census_count_df[\"DP04_0001E\"].astype(int)\n",
        "ax = census_count_df.sort_values(ascending=False, by=\"DP04_0001E\").plot(x=\"NAME\", y=\"DP04_0001E\", kind=\"bar\", ax=plt.gca())\n",
        "\n",
        "plt.title(\"Distribution of Housing Units across District 7's ZIP Codes for 2022\")\n",
        "plt.xlabel(\"ZIP Codes\")\n",
        "plt.ylabel(\"Count of Housing Units\")\n",
        "\n",
        "plt.xticks(rotation=0)\n",
        "plt.show()"
      ]
    },
    {
      "cell_type": "markdown",
      "metadata": {},
      "source": [
        "02124 and 02118 appears to have the most housing units. 02124 also have a very high number of income-restricted housings."
      ]
    },
    {
      "cell_type": "markdown",
      "metadata": {},
      "source": [
        "For further details of our preliminary analysis of the RentSmart dataset, please refer to this [notebook](https://github.com/BU-Spark/ds-bcc-tania-fernandes-d7/blob/district7_teamB/fa24-team-b/housing/notebooks/d7-CensusData.ipynb)."
      ]
    },
    {
      "cell_type": "markdown",
      "metadata": {
        "id": "v_oSe7vtJwWm"
      },
      "source": [
        "## 3. Challenges"
      ]
    },
    {
      "cell_type": "markdown",
      "metadata": {
        "id": "_yF1wPAZJwWm"
      },
      "source": [
        "### 3.1 District 7 Jurisdiction"
      ]
    },
    {
      "cell_type": "markdown",
      "metadata": {
        "id": "OHGlDMY4JwWm"
      },
      "source": [
        "We faced challenges determining which projects from the income-restricted housing dataset are in District 7, as the dataset identifies areas by neighborhood rather than district. For projects in the South End, we suspect that the provided ZIP codes may be incorrect, as multiple ZIP codes are listed when the South End should only have one.\n",
        "\n",
        "We consulted the research guide librarian, Lucy Flamm, who recommended using the \"Find My Councilor\" tool to clarify which addresses in the South End belong to District 7. For addresses that cannot be verified through this tool, we will compare them with the Massachusetts Interactive Property Map and Boston's precinct map. This process will only apply to projects in the South End, making it feasible to handle manually.\n",
        "\n",
        "A CSV file containing only income-restricted housing projects in District 7 is now available on GitHub, but it hasn't been used in the current data cleaning and preprocessing due to the time required for manual verification. We plan to incorporate this dataset into future analyses.\n",
        "\n",
        "**Update:** The client comments that he is most interested in Zip Code 02199 and 02121 since these are the zip codes that wholely fall within District 7 and makes up the majority of District 7. We are in the process of confirming with the client if this is truely what he wants because this will filter out a lot of data from the income-restricted housing dataset."
      ]
    },
    {
      "cell_type": "markdown",
      "metadata": {
        "id": "jiDd75AHJwWm"
      },
      "source": [
        "## 4. Insufficient Data"
      ]
    },
    {
      "cell_type": "markdown",
      "metadata": {
        "id": "kXCdYa4tJwWm"
      },
      "source": [
        "Determining whether a South End address is part of District 7 remains challenging, particularly for larger datasets like RentSmart, which cannot be manually processed. We are considering reaching out to Boston’s city data team for assistance, as Lucy Flamm suggested, in case they have privately stored data that could help us."
      ]
    }
  ],
  "metadata": {
    "colab": {
      "provenance": []
    },
    "kernelspec": {
      "display_name": ".venv",
      "language": "python",
      "name": "python3"
    },
    "language_info": {
      "codemirror_mode": {
        "name": "ipython",
        "version": 3
      },
      "file_extension": ".py",
      "mimetype": "text/x-python",
      "name": "python",
      "nbconvert_exporter": "python",
      "pygments_lexer": "ipython3",
      "version": "3.13.0"
    }
  },
  "nbformat": 4,
  "nbformat_minor": 0
}
