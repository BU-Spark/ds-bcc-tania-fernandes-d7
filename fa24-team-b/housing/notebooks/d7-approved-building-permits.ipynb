{
 "cells": [
  {
   "cell_type": "markdown",
   "id": "9d9f0044-7c2b-4653-85a9-f022f77da5d4",
   "metadata": {},
   "source": [
    "# Approved Building Permits Dataset\n",
    "\n",
    "The Approved Building Permits (ABP) dataset contains information on building permits issued across Boston from 2010 to 2024. It provide insights into city maintenance and development patterns. More information can be found via the following link: https://data.boston.gov/dataset/approved-building-permits. \n",
    "\n",
    "In this notebook, we will... \n",
    "- Clean and pre-process the dataset\n",
    "- Conduct base analysis on the dataset \n",
    "- Gather useful insights on building permits in District 7 from 2021 to 2024\n",
    "\n",
    "To understand the quality of life in District 7 under Councilor's guidance, we will further focus on the time range from 2021 to 2024. In the upcoming weeks, this notebook will also help us compare the District's performance with the city of Boston. "
   ]
  },
  {
   "cell_type": "markdown",
   "id": "858630b0-b659-4537-9e16-02364821064d",
   "metadata": {},
   "source": [
    "### 1. Load Necessary Packages"
   ]
  },
  {
   "cell_type": "code",
   "execution_count": 2,
   "id": "9114f036-6794-44da-987a-f5d96d426cbc",
   "metadata": {},
   "outputs": [],
   "source": [
    "import pandas as pd\n",
    "import numpy as np\n",
    "import matplotlib.pyplot as plt\n",
    "import seaborn as sns\n",
    "import zipfile"
   ]
  },
  {
   "cell_type": "markdown",
   "id": "f37ce297-2873-4adf-9107-164d1088e2a3",
   "metadata": {},
   "source": [
    "### 2. Load Approved Building Permits Dataset\n",
    "Because the dataset is too large to upload to GitHub, we can use the following two methods to load the dataset. \n",
    "\n",
    "**Method 1**: Download the dataset here https://data.boston.gov/dataset/approved-building-permits, replace the example file name in the read_csv code below with your file name, and run the remaining section to pre-process data."
   ]
  },
  {
   "cell_type": "code",
   "execution_count": null,
   "id": "fa48d4b2-f9eb-4101-93d8-62d4c3a98dcf",
   "metadata": {},
   "outputs": [],
   "source": [
    "df = pd.read_csv(\"../data/approved_building_permits.csv\", low_memory=False)"
   ]
  },
  {
   "cell_type": "code",
   "execution_count": null,
   "id": "74d5ca8d-21d6-47c0-b874-f21a58e550dd",
   "metadata": {},
   "outputs": [],
   "source": [
    "df"
   ]
  },
  {
   "cell_type": "markdown",
   "id": "aec6dce5-2d72-4113-a961-a4b463e718eb",
   "metadata": {},
   "source": [
    "## 3. Data Cleaning "
   ]
  },
  {
   "cell_type": "code",
   "execution_count": null,
   "id": "ef76a8da-fb09-4d33-8dc2-60930ad02b9d",
   "metadata": {},
   "outputs": [],
   "source": [
    "worktype_mapping = {\n",
    "    'INTEXT': 'Renovation & Interior/Exterior Work',\n",
    "    'INTREN': 'Renovation & Interior/Exterior Work',\n",
    "    'EXTREN': 'Renovation & Interior/Exterior Work',\n",
    "    'OTHER': 'Miscellaneous',\n",
    "    'SPRINK': 'Fire Protection & Safety',\n",
    "    'ADDITION': 'Renovation & Interior/Exterior Work',\n",
    "    'COB': 'Miscellaneous',\n",
    "    'FA': 'Fire Protection & Safety',\n",
    "    'ERECT': 'Construction & New Installations',\n",
    "    'SITE': 'Temporary Structures & Events',\n",
    "    'VIOL': 'Miscellaneous',\n",
    "    'PLUMBING': 'Electrical, Plumbing & Utility Systems',\n",
    "    'SPCEVE': 'Temporary Structures & Events',\n",
    "    'NEWCON': 'Construction & New Installations',\n",
    "    'SIGNES': 'Signage & Canopy',\n",
    "    'SPRNK9': 'Fire Protection & Safety',\n",
    "    'EXTDEM': 'Demolition',\n",
    "    'SD': 'Miscellaneous',\n",
    "    'ROOF': 'Renovation & Interior/Exterior Work',\n",
    "    'GARAGE': 'Construction & New Installations',\n",
    "    'AWNING': 'Signage & Canopy',\n",
    "    'FENCE2': 'Renovation & Interior/Exterior Work',\n",
    "    'INSUL': 'Renovation & Interior/Exterior Work',\n",
    "    'SIGNS': 'Signage & Canopy',\n",
    "    'FSTTRK': 'Temporary Structures & Events',\n",
    "    'CHGOCC': 'Occupancy & Use Change',\n",
    "    'CELL': 'Temporary Structures & Events',\n",
    "    'NROCC': 'Miscellaneous',\n",
    "    'SOL': 'Construction & New Installations',\n",
    "    'INTDEM': 'Demolition',\n",
    "    'SPFT': 'Miscellaneous',\n",
    "    'RAZE': 'Demolition',\n",
    "    'TMPSER': 'Temporary Structures & Events',\n",
    "    'ELECTRICAL': 'Electrical, Plumbing & Utility Systems',\n",
    "    'GEN': 'Electrical, Plumbing & Utility Systems',\n",
    "    'CANP': 'Signage & Canopy',\n",
    "    'FENCE': 'Renovation & Interior/Exterior Work',\n",
    "    'SIDE': 'Renovation & Interior/Exterior Work',\n",
    "    'HOLVEN': 'Miscellaneous',\n",
    "    'CONVRT': 'Miscellaneous',\n",
    "    'SRVCHG': 'Electrical, Plumbing & Utility Systems',\n",
    "    'LVOLT': 'Electrical, Plumbing & Utility Systems',\n",
    "    'MAINT': 'Miscellaneous',\n",
    "    'Service': 'Miscellaneous',\n",
    "    'DRIVE': 'Construction & New Installations',\n",
    "    'INDBLR': 'Electrical, Plumbing & Utility Systems',\n",
    "    'TEMTRL': 'Temporary Structures & Events',\n",
    "    'FLAM': 'Fire Protection & Safety',\n",
    "    'COMPAR': 'Miscellaneous',\n",
    "    'TVTRK': 'Temporary Structures & Events',\n",
    "    'New': 'Construction & New Installations',\n",
    "    'GAS': 'Electrical, Plumbing & Utility Systems',\n",
    "    'INDFUR': 'Electrical, Plumbing & Utility Systems',\n",
    "    'AWNRNW': 'Signage & Canopy',\n",
    "    'RNWSIG': 'Signage & Canopy',\n",
    "    'RESPAR': 'Miscellaneous',\n",
    "    'AWNRET': 'Signage & Canopy',\n",
    "    'BFCHMINFIN': 'Miscellaneous',\n",
    "    'BFCHMTENT': 'Temporary Structures & Events',\n",
    "    'General': 'Miscellaneous',\n",
    "    'Dumpsters': 'Miscellaneous',\n",
    "    'TMPUSOC': 'Occupancy & Use Change',\n",
    "    'OSEAT': 'Temporary Structures & Events',\n",
    "    'CANPRN': 'Signage & Canopy',\n",
    "    'TCOO': 'Temporary Structures & Events'\n",
    "}\n",
    "\n",
    "df = df.dropna()\n",
    "\n",
    "df.loc[:, 'issued_date'] = pd.to_datetime(df['issued_date'], errors='coerce', format='mixed').dt.date\n",
    "df.loc[:, 'expiration_date'] = pd.to_datetime(df['expiration_date'], errors='coerce', format='mixed').dt.date\n",
    "\n",
    "d7_zip = [\"02119\", \"02120\", \"02121\", \"02122\", \"02124\", \"02125\", \"02115\", \"02215\", \"02118\"]\n",
    "df = df[df['zip'].isin(d7_zip)].copy()\n",
    "df.loc[:, 'zip'] = df['zip'].apply(lambda x: str(x).zfill(5))\n",
    "\n",
    "d7_city = [\"Dorchester\", \"Fenway\", \"Roxbury\", \"South End\"]\n",
    "df = df[df['city'].isin(d7_city)].copy()\n",
    "\n",
    "columns_to_drop = ['property_id', 'parcel_id', 'gpsy', 'gpsx']\n",
    "df = df.drop(columns=[col for col in columns_to_drop if col in df.columns])\n",
    "\n",
    "df['new_worktype'] = df['worktype'].map(worktype_mapping)\n",
    "\n",
    "df = df.dropna(subset=['new_worktype'])\n",
    "\n",
    "df"
   ]
  },
  {
   "cell_type": "markdown",
   "id": "46e01f10-318f-4583-8cbb-8506bfc5d819",
   "metadata": {},
   "source": [
    "**Method 2**: Run the ZipFile code below to load the cleaned dataset that is uploaded to GitHub as a zip file "
   ]
  },
  {
   "cell_type": "code",
   "execution_count": null,
   "id": "48a10b05-fcd4-4066-aa83-8cce2ca651d0",
   "metadata": {},
   "outputs": [],
   "source": [
    "with zipfile.ZipFile(\"../data/d7-approved-building-permits.csv.zip\") as z:\n",
    "    print(z.namelist())\n",
    "    with z.open('d7-approved-building-permits.csv') as f:\n",
    "        df = pd.read_csv(f, low_memory=False)\n",
    "df"
   ]
  },
  {
   "cell_type": "markdown",
   "id": "54df405b-53e2-4ce7-8a5d-65db231fe77b",
   "metadata": {},
   "source": [
    "### 4. Data Visualization"
   ]
  },
  {
   "cell_type": "code",
   "execution_count": null,
   "id": "1102e8b6-e0c9-4544-9163-e2cbb2438fd8",
   "metadata": {},
   "outputs": [],
   "source": [
    "df['issued_date'] = pd.to_datetime(df['issued_date'], errors='coerce')\n",
    "df = df.dropna(subset=['issued_date'])\n",
    "\n",
    "df['issued_year'] = df['issued_date'].dt.year\n",
    "\n",
    "worktype_counts_per_year = df.groupby(['issued_year', 'new_worktype']).size().unstack(fill_value=0)\n",
    "\n",
    "plt.figure(figsize=(20, 10))\n",
    "worktype_counts_per_year.plot(kind='line', marker='o', linestyle='-', figsize=(20, 10))\n",
    "\n",
    "plt.title('Total Permits by Work Types (2010-2024)', fontsize=20)\n",
    "plt.xlabel('Year', fontsize=16)\n",
    "plt.ylabel('Total Number of Permits', fontsize=16)\n",
    "plt.xticks(rotation=0, ha='right')\n",
    "plt.legend(title='Work Type', bbox_to_anchor=(1.05, 1), loc='upper left')\n",
    "\n",
    "plt.grid(axis='y', linestyle='--', alpha=0.6)\n",
    "plt.tight_layout()\n",
    "plt.show()"
   ]
  },
  {
   "cell_type": "markdown",
   "id": "ad3e43d4-8c84-44d8-9619-12f5f3b38965",
   "metadata": {},
   "source": [
    "**Findings**: \n",
    "- Electrical, Plumbing & Utility Systems is the most common work type from 2010 to 2024, followed by Renovation and Interior/Exterior Work. \n",
    "- The remaining work types stay under 1,000 permits across the years, and are further analyzed in the following graphs. "
   ]
  },
  {
   "cell_type": "code",
   "execution_count": null,
   "id": "b5d3fc61-a60b-484b-a352-305d5307b4d7",
   "metadata": {},
   "outputs": [],
   "source": [
    "df['issued_date'] = pd.to_datetime(df['issued_date'], errors='coerce')\n",
    "df = df.dropna(subset=['issued_date'])\n",
    "\n",
    "df['issued_year'] = df['issued_date'].dt.year\n",
    "\n",
    "worktype_counts_per_year = df.groupby(['issued_year', 'new_worktype']).size().unstack(fill_value=0)\n",
    "\n",
    "worktype_percentages = worktype_counts_per_year.div(worktype_counts_per_year.sum(axis=1), axis=0) * 100\n",
    "\n",
    "worktype_percentages = worktype_percentages.loc[2021:2024]\n",
    "\n",
    "primary_worktypes = ['Electrical, Plumbing & Utility Systems', 'Renovation & Interior/Exterior Work']\n",
    "secondary_worktypes = ['Construction & New Installations', 'Miscellaneous', 'Fire Protection & Safety']\n",
    "\n",
    "primary_worktype_data = worktype_percentages[primary_worktypes]\n",
    "secondary_worktype_data = worktype_percentages[secondary_worktypes]\n",
    "other_worktype_data = worktype_percentages.drop(columns=primary_worktypes + secondary_worktypes)\n",
    "\n",
    "plt.figure(figsize=(14, 7))\n",
    "ax1 = primary_worktype_data.plot(kind='line', marker='o', linestyle='-', figsize=(14, 7))\n",
    "\n",
    "for line in ax1.get_lines():\n",
    "    for x, y in zip(line.get_xdata(), line.get_ydata()):\n",
    "        label = f\"{y:.1f}%\"\n",
    "        ax1.annotate(label, (x, y), textcoords=\"offset points\", xytext=(0, 5), ha='center')\n",
    "\n",
    "plt.title('Percentage of Permits by Primary Work Types (2021-2024)', fontsize=18)\n",
    "plt.xlabel('Year', fontsize=14)\n",
    "plt.ylabel('Percentage of Permits (%)', fontsize=14)\n",
    "plt.xticks(ticks=primary_worktype_data.index, labels=primary_worktype_data.index.astype(int), rotation=0)\n",
    "plt.legend(title='Primary Work Type', bbox_to_anchor=(1.05, 1), loc='upper left')\n",
    "plt.grid(axis='y', linestyle='--', alpha=0.6)\n",
    "plt.tight_layout()\n",
    "plt.show()\n",
    "\n",
    "plt.figure(figsize=(14, 7))\n",
    "ax2 = secondary_worktype_data.plot(kind='line', marker='o', linestyle='-', figsize=(14, 7))\n",
    "\n",
    "for line in ax2.get_lines():\n",
    "    for x, y in zip(line.get_xdata(), line.get_ydata()):\n",
    "        label = f\"{y:.1f}%\"\n",
    "        ax2.annotate(label, (x, y), textcoords=\"offset points\", xytext=(0, 5), ha='center')\n",
    "\n",
    "plt.title('Percentage of Permits by Secondary Work Types (2021-2024)', fontsize=18)\n",
    "plt.xlabel('Year', fontsize=14)\n",
    "plt.ylabel('Percentage of Permits (%)', fontsize=14)\n",
    "plt.xticks(ticks=secondary_worktype_data.index, labels=secondary_worktype_data.index.astype(int), rotation=0)\n",
    "plt.legend(title='Secondary Work Type', bbox_to_anchor=(1.05, 1), loc='upper left')\n",
    "plt.grid(axis='y', linestyle='--', alpha=0.6)\n",
    "plt.tight_layout()\n",
    "plt.show()\n",
    "\n",
    "plt.figure(figsize=(14, 7))\n",
    "ax3 = other_worktype_data.plot(kind='line', marker='o', linestyle='-', figsize=(14, 7))\n",
    "\n",
    "for line in ax3.get_lines():\n",
    "    for x, y in zip(line.get_xdata(), line.get_ydata()):\n",
    "        label = f\"{y:.1f}%\"\n",
    "        ax3.annotate(label, (x, y), textcoords=\"offset points\", xytext=(0, 5), ha='center')\n",
    "\n",
    "plt.title('Percentage of Permits by Other Work Types (2021-2024)', fontsize=18)\n",
    "plt.xlabel('Year', fontsize=14)\n",
    "plt.ylabel('Percentage of Permits (%)', fontsize=14)\n",
    "plt.xticks(ticks=other_worktype_data.index, labels=other_worktype_data.index.astype(int), rotation=0)\n",
    "plt.legend(title='Other Work Type', bbox_to_anchor=(1.05, 1), loc='upper left')\n",
    "plt.grid(axis='y', linestyle='--', alpha=0.6)\n",
    "plt.tight_layout()\n",
    "plt.show()"
   ]
  },
  {
   "cell_type": "markdown",
   "id": "af83b09a-abe8-498a-a754-1d5d0978f7a3",
   "metadata": {},
   "source": [
    "**Findings**: \n",
    "- The percentage for Electrical, Plumbing, and Utility Systems was generally decreasing, while Renovation and Interior/Exterior Work was slowly increasing. \n",
    "- Both work types took up around 78% of total permits. \n",
    "- The demands for Construction and New Installations as well as Fire Protection and Safety fluctuated significantly, while Miscellaneous is  generally stable. \n",
    "- Demolition, Occupancy and Use Change, Temporary Structures and Events, as well as Signade and Canopy appears to be under control, given their low percentages and relatively even patterns. "
   ]
  },
  {
   "cell_type": "code",
   "execution_count": null,
   "id": "1551e5e8-3a26-431a-8287-0f81866358ce",
   "metadata": {},
   "outputs": [],
   "source": [
    "df['issued_date'] = pd.to_datetime(df['issued_date'], errors='coerce')\n",
    "df = df.dropna(subset=['issued_date'])\n",
    "\n",
    "df['issued_year'] = df['issued_date'].dt.year\n",
    "\n",
    "occupancytype_counts_per_year = df.groupby(['issued_year', 'occupancytype']).size().unstack(fill_value=0)\n",
    "\n",
    "plt.figure(figsize=(20, 10))\n",
    "occupancytype_counts_per_year.plot(kind='line', marker='o', linestyle='-', figsize=(20, 10))\n",
    "\n",
    "plt.title('Total Permits by Occupancy Types (2010-2024)', fontsize=20)\n",
    "plt.xlabel('Year', fontsize=16)\n",
    "plt.ylabel('Total Number of Permits', fontsize=16)\n",
    "plt.xticks(rotation=0, ha='right')\n",
    "plt.legend(title='Occupancy Type', bbox_to_anchor=(1.05, 1), loc='upper left')\n",
    "\n",
    "plt.grid(axis='y', linestyle='--', alpha=0.6)\n",
    "plt.tight_layout()\n",
    "plt.show()"
   ]
  },
  {
   "cell_type": "markdown",
   "id": "db1fcd87-6dfe-42d3-8937-419e70076cbc",
   "metadata": {},
   "source": [
    "**Findings**: \n",
    "- All occupancy types are decreasing or remaining relatively the same since 2023. \n",
    "- The most common occupancy type is a family of 1 to 2.\n",
    "- Family of 1-3, 1-4, and 1 unit are common occupancy types as well."
   ]
  },
  {
   "cell_type": "code",
   "execution_count": null,
   "id": "5b83f188-24af-4f23-99dd-2c7cb1075b4c",
   "metadata": {},
   "outputs": [],
   "source": [
    "status_counts_per_year = df.groupby(['issued_year', 'status']).size().unstack(fill_value=0)\n",
    "\n",
    "plt.figure(figsize=(12, 6))\n",
    "status_counts_per_year.plot(kind='line', marker='o', linestyle='-')\n",
    "\n",
    "plt.title('Total Permits from 2010 to 2024', fontsize=16)\n",
    "plt.xlabel('Year', fontsize=14)\n",
    "plt.ylabel('Total Number of Permits', fontsize=14)\n",
    "plt.xticks(rotation=0)\n",
    "plt.legend(title='Status', bbox_to_anchor=(1.05, 1), loc='upper left')\n",
    "plt.grid(axis='y', linestyle='--', alpha=0.6)\n",
    "plt.tight_layout()\n",
    "plt.show()"
   ]
  },
  {
   "cell_type": "markdown",
   "id": "f1de2ad9-f6e6-42e2-bd8c-76771e774a5c",
   "metadata": {},
   "source": [
    "**Findings**: \n",
    "- Open Permits are higher than Closed Permits from 2010 to 2024. "
   ]
  },
  {
   "cell_type": "code",
   "execution_count": null,
   "id": "1f615988-12c8-4bc3-ab9c-94bc94c3fe13",
   "metadata": {},
   "outputs": [],
   "source": [
    "df['issued_date'] = pd.to_datetime(df['issued_date'], errors='coerce')\n",
    "df = df.dropna(subset=['issued_date'])\n",
    "\n",
    "df['issued_year'] = df['issued_date'].dt.year\n",
    "\n",
    "df_filtered = df[df['issued_year'].between(2021, 2024)]\n",
    "\n",
    "status_counts_per_year = df_filtered.groupby(['issued_year', 'status']).size().unstack(fill_value=0)\n",
    "\n",
    "status_percentages_per_year = status_counts_per_year.div(status_counts_per_year.sum(axis=1), axis=0) * 100\n",
    "\n",
    "plt.figure(figsize=(12, 6))\n",
    "status_percentages_per_year.plot(kind='line', marker='o', linestyle='-')\n",
    "\n",
    "for year in status_percentages_per_year.index:\n",
    "    for status in status_percentages_per_year.columns:\n",
    "        plt.text(year, status_percentages_per_year.loc[year, status], \n",
    "                 f\"{status_percentages_per_year.loc[year, status]:.1f}%\", \n",
    "                 ha='center', va='bottom', fontsize=8)\n",
    "\n",
    "plt.title('Percentage of Permits from 2021 to 2024', fontsize=16)\n",
    "plt.xlabel('Year', fontsize=14)\n",
    "plt.ylabel('Percentage of Permits (%)', fontsize=14)\n",
    "plt.xticks(ticks=status_percentages_per_year.index, labels=status_percentages_per_year.index.astype(int), rotation=0)\n",
    "plt.legend(title='Status', bbox_to_anchor=(1.05, 1), loc='upper left')\n",
    "plt.grid(axis='y', linestyle='--', alpha=0.6)\n",
    "plt.tight_layout()\n",
    "plt.show()\n"
   ]
  },
  {
   "cell_type": "markdown",
   "id": "1cd0bf75-cc8e-45f2-a4a5-16335aaafff7",
   "metadata": {},
   "source": [
    "**Findings**: \n",
    "- Open Permits were gradually decreasing from 2021 to 2023, but began increasing afterward. \n",
    "- In contrast, Closed Permits were slightly increasing from 2021 to 2023, but started decreasing afterward. "
   ]
  },
  {
   "cell_type": "markdown",
   "id": "50e926e5-0b73-4660-9911-a954cfc44acc",
   "metadata": {},
   "source": [
    "### 5. Conclusion"
   ]
  },
  {
   "cell_type": "markdown",
   "id": "a569da7f-3363-4c92-9277-6c75c68769f3",
   "metadata": {},
   "source": [
    "- Electrical, Plumbing & Utility Systems and Renovation and Interior/Exterior Work are the most common work of building permits.\n",
    "- Construction and New Installations as well as Fire Protection and Safety should be closely monitored to prevent larger issues occured.\n",
    "- All occupancy types are decreasing or remaining relatively the same since 2023.\n",
    "- 75% of the permits remain open, which is significantly higher compared to the years before. "
   ]
  }
 ],
 "metadata": {
  "jupytext": {
   "formats": "ipynb,py:light"
  },
  "kernelspec": {
   "display_name": "Python 3 (ipykernel)",
   "language": "python",
   "name": "python3"
  },
  "language_info": {
   "codemirror_mode": {
    "name": "ipython",
    "version": 3
   },
   "file_extension": ".py",
   "mimetype": "text/x-python",
   "name": "python",
   "nbconvert_exporter": "python",
   "pygments_lexer": "ipython3",
   "version": "3.11.10"
  }
 },
 "nbformat": 4,
 "nbformat_minor": 5
}
