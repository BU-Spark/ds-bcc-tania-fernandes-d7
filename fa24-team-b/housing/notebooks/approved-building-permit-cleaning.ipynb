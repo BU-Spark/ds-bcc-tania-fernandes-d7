{
 "cells": [
  {
   "cell_type": "markdown",
   "metadata": {},
   "source": [
    "# Finding Approved Building Permits in for Buildings in City Council District 7"
   ]
  },
  {
   "cell_type": "code",
   "execution_count": 1,
   "metadata": {},
   "outputs": [],
   "source": [
    "from geopy.geocoders import Nominatim\n",
    "import geopandas as gpd\n",
    "from shapely.geometry import Point\n",
    "import matplotlib as plt\n",
    "import pandas as pd\n",
    "import numpy as np"
   ]
  },
  {
   "cell_type": "code",
   "execution_count": 2,
   "metadata": {},
   "outputs": [],
   "source": [
    "df = pd.read_csv(\"../data/approved-building-permit.csv\", low_memory=False)"
   ]
  },
  {
   "cell_type": "code",
   "execution_count": 3,
   "metadata": {},
   "outputs": [],
   "source": [
    "df_street_address = pd.read_csv(\"../data/Boston-SAM.csv\", low_memory=False)"
   ]
  },
  {
   "cell_type": "code",
   "execution_count": 896,
   "metadata": {},
   "outputs": [
    {
     "data": {
      "text/plain": [
       "(666484, 23)"
      ]
     },
     "execution_count": 896,
     "metadata": {},
     "output_type": "execute_result"
    }
   ],
   "source": [
    "df.shape"
   ]
  },
  {
   "cell_type": "code",
   "execution_count": 897,
   "metadata": {},
   "outputs": [],
   "source": [
    "df_columns = df.columns"
   ]
  },
  {
   "cell_type": "markdown",
   "metadata": {},
   "source": [
    "### Number of rows missing longitude: 14735\n",
    "But the majority of them have address, which can be filled by comparing with Love Street Address Management dataset to impute the value. Only 14 rows have both longitude and address missing, which will be dropped."
   ]
  },
  {
   "cell_type": "code",
   "execution_count": 898,
   "metadata": {},
   "outputs": [
    {
     "data": {
      "text/plain": [
       "(14735, 2)"
      ]
     },
     "execution_count": 898,
     "metadata": {},
     "output_type": "execute_result"
    }
   ],
   "source": [
    "df[df[\"x_longitude\"].isna()][[\"address\", \"x_longitude\"]].shape"
   ]
  },
  {
   "cell_type": "code",
   "execution_count": 899,
   "metadata": {},
   "outputs": [
    {
     "data": {
      "text/plain": [
       "(14, 2)"
      ]
     },
     "execution_count": 899,
     "metadata": {},
     "output_type": "execute_result"
    }
   ],
   "source": [
    "df[df[\"x_longitude\"].isna() & df[\"address\"].isna()][[\"address\", \"x_longitude\"]].shape"
   ]
  },
  {
   "cell_type": "markdown",
   "metadata": {},
   "source": [
    "### Number of rows missing latitude: 14735\n",
    "But the majority of them have address, which can be filled by comparing with Love Street Address Management dataset to impute the value. Only 14 rows have both latitude and address missing, which will be dropped."
   ]
  },
  {
   "cell_type": "code",
   "execution_count": 900,
   "metadata": {},
   "outputs": [
    {
     "data": {
      "text/plain": [
       "(14735, 2)"
      ]
     },
     "execution_count": 900,
     "metadata": {},
     "output_type": "execute_result"
    }
   ],
   "source": [
    "df[df[\"y_latitude\"].isna()][[\"address\", \"y_latitude\"]].shape"
   ]
  },
  {
   "cell_type": "code",
   "execution_count": 901,
   "metadata": {},
   "outputs": [
    {
     "data": {
      "text/plain": [
       "(14, 2)"
      ]
     },
     "execution_count": 901,
     "metadata": {},
     "output_type": "execute_result"
    }
   ],
   "source": [
    "df[df[\"y_latitude\"].isna() & df[\"address\"].isna()][[\"address\", \"y_latitude\"]].shape"
   ]
  },
  {
   "cell_type": "markdown",
   "metadata": {},
   "source": [
    "### The row that has missing value for longitude also has missing values for latitude\n",
    "This make it easy to impute by joining the table to Live Street Address Management only once."
   ]
  },
  {
   "cell_type": "code",
   "execution_count": 902,
   "metadata": {},
   "outputs": [
    {
     "data": {
      "text/plain": [
       "True"
      ]
     },
     "execution_count": 902,
     "metadata": {},
     "output_type": "execute_result"
    }
   ],
   "source": [
    "df[df[\"x_longitude\"].isna()][[\"address\", \"x_longitude\"]].index.equals(df[df[\"y_latitude\"].isna()][[\"address\", \"y_latitude\"]].index)"
   ]
  },
  {
   "cell_type": "markdown",
   "metadata": {},
   "source": [
    "## Impute `x_longitude` and `y_latitude`"
   ]
  },
  {
   "cell_type": "code",
   "execution_count": 903,
   "metadata": {},
   "outputs": [
    {
     "data": {
      "text/html": [
       "<div>\n",
       "<style scoped>\n",
       "    .dataframe tbody tr th:only-of-type {\n",
       "        vertical-align: middle;\n",
       "    }\n",
       "\n",
       "    .dataframe tbody tr th {\n",
       "        vertical-align: top;\n",
       "    }\n",
       "\n",
       "    .dataframe thead th {\n",
       "        text-align: right;\n",
       "    }\n",
       "</style>\n",
       "<table border=\"1\" class=\"dataframe\">\n",
       "  <thead>\n",
       "    <tr style=\"text-align: right;\">\n",
       "      <th></th>\n",
       "      <th>address_new</th>\n",
       "      <th>x_longitude</th>\n",
       "      <th>y_latitude</th>\n",
       "    </tr>\n",
       "  </thead>\n",
       "  <tbody>\n",
       "    <tr>\n",
       "      <th>0</th>\n",
       "      <td>181-183 state st</td>\n",
       "      <td>-71.052924</td>\n",
       "      <td>42.359190</td>\n",
       "    </tr>\n",
       "    <tr>\n",
       "      <th>1</th>\n",
       "      <td>175 w boundary rd</td>\n",
       "      <td>-71.149611</td>\n",
       "      <td>42.260750</td>\n",
       "    </tr>\n",
       "    <tr>\n",
       "      <th>2</th>\n",
       "      <td>15 prospect st</td>\n",
       "      <td>-71.057585</td>\n",
       "      <td>42.375243</td>\n",
       "    </tr>\n",
       "    <tr>\n",
       "      <th>3</th>\n",
       "      <td>211 w springfield st</td>\n",
       "      <td>-71.080251</td>\n",
       "      <td>42.340600</td>\n",
       "    </tr>\n",
       "    <tr>\n",
       "      <th>4</th>\n",
       "      <td>14 william jackson av</td>\n",
       "      <td>-71.154051</td>\n",
       "      <td>42.344600</td>\n",
       "    </tr>\n",
       "    <tr>\n",
       "      <th>...</th>\n",
       "      <td>...</td>\n",
       "      <td>...</td>\n",
       "      <td>...</td>\n",
       "    </tr>\n",
       "    <tr>\n",
       "      <th>666479</th>\n",
       "      <td>3 center pz</td>\n",
       "      <td>-71.060818</td>\n",
       "      <td>42.360383</td>\n",
       "    </tr>\n",
       "    <tr>\n",
       "      <th>666480</th>\n",
       "      <td>1188 commonwealth av</td>\n",
       "      <td>-71.129145</td>\n",
       "      <td>42.350100</td>\n",
       "    </tr>\n",
       "    <tr>\n",
       "      <th>666481</th>\n",
       "      <td>46 burroughs st</td>\n",
       "      <td>-71.117131</td>\n",
       "      <td>42.313220</td>\n",
       "    </tr>\n",
       "    <tr>\n",
       "      <th>666482</th>\n",
       "      <td>16 colonial ave</td>\n",
       "      <td>-71.075261</td>\n",
       "      <td>42.290650</td>\n",
       "    </tr>\n",
       "    <tr>\n",
       "      <th>666483</th>\n",
       "      <td>17 alpha rd</td>\n",
       "      <td>-71.067971</td>\n",
       "      <td>42.296190</td>\n",
       "    </tr>\n",
       "  </tbody>\n",
       "</table>\n",
       "<p>666484 rows × 3 columns</p>\n",
       "</div>"
      ],
      "text/plain": [
       "                  address_new  x_longitude  y_latitude\n",
       "0            181-183 state st   -71.052924   42.359190\n",
       "1           175 w boundary rd   -71.149611   42.260750\n",
       "2              15 prospect st   -71.057585   42.375243\n",
       "3        211 w springfield st   -71.080251   42.340600\n",
       "4       14 william jackson av   -71.154051   42.344600\n",
       "...                       ...          ...         ...\n",
       "666479            3 center pz   -71.060818   42.360383\n",
       "666480   1188 commonwealth av   -71.129145   42.350100\n",
       "666481        46 burroughs st   -71.117131   42.313220\n",
       "666482        16 colonial ave   -71.075261   42.290650\n",
       "666483            17 alpha rd   -71.067971   42.296190\n",
       "\n",
       "[666484 rows x 3 columns]"
      ]
     },
     "execution_count": 903,
     "metadata": {},
     "output_type": "execute_result"
    }
   ],
   "source": [
    "df[\"address_new\"] = df[\"address\"].str.lower().str.strip()\n",
    "df[[\"address_new\", \"x_longitude\", \"y_latitude\"]]"
   ]
  },
  {
   "cell_type": "code",
   "execution_count": 904,
   "metadata": {},
   "outputs": [
    {
     "data": {
      "text/html": [
       "<div>\n",
       "<style scoped>\n",
       "    .dataframe tbody tr th:only-of-type {\n",
       "        vertical-align: middle;\n",
       "    }\n",
       "\n",
       "    .dataframe tbody tr th {\n",
       "        vertical-align: top;\n",
       "    }\n",
       "\n",
       "    .dataframe thead th {\n",
       "        text-align: right;\n",
       "    }\n",
       "</style>\n",
       "<table border=\"1\" class=\"dataframe\">\n",
       "  <thead>\n",
       "    <tr style=\"text-align: right;\">\n",
       "      <th></th>\n",
       "      <th>FULL_ADDRESS_new</th>\n",
       "    </tr>\n",
       "  </thead>\n",
       "  <tbody>\n",
       "    <tr>\n",
       "      <th>0</th>\n",
       "      <td>6-10 a st</td>\n",
       "    </tr>\n",
       "    <tr>\n",
       "      <th>1</th>\n",
       "      <td>15 a st</td>\n",
       "    </tr>\n",
       "    <tr>\n",
       "      <th>2</th>\n",
       "      <td>7 a st</td>\n",
       "    </tr>\n",
       "    <tr>\n",
       "      <th>3</th>\n",
       "      <td>10 a st</td>\n",
       "    </tr>\n",
       "    <tr>\n",
       "      <th>4</th>\n",
       "      <td>172-174 a st</td>\n",
       "    </tr>\n",
       "    <tr>\n",
       "      <th>...</th>\n",
       "      <td>...</td>\n",
       "    </tr>\n",
       "    <tr>\n",
       "      <th>400191</th>\n",
       "      <td>56r wichita ter</td>\n",
       "    </tr>\n",
       "    <tr>\n",
       "      <th>400192</th>\n",
       "      <td>2 charlesgate w</td>\n",
       "    </tr>\n",
       "    <tr>\n",
       "      <th>400193</th>\n",
       "      <td>116 centre st</td>\n",
       "    </tr>\n",
       "    <tr>\n",
       "      <th>400194</th>\n",
       "      <td>56b crockett ave</td>\n",
       "    </tr>\n",
       "    <tr>\n",
       "      <th>400195</th>\n",
       "      <td>23 hopkins st</td>\n",
       "    </tr>\n",
       "  </tbody>\n",
       "</table>\n",
       "<p>400196 rows × 1 columns</p>\n",
       "</div>"
      ],
      "text/plain": [
       "        FULL_ADDRESS_new\n",
       "0              6-10 a st\n",
       "1                15 a st\n",
       "2                 7 a st\n",
       "3                10 a st\n",
       "4           172-174 a st\n",
       "...                  ...\n",
       "400191   56r wichita ter\n",
       "400192   2 charlesgate w\n",
       "400193     116 centre st\n",
       "400194  56b crockett ave\n",
       "400195     23 hopkins st\n",
       "\n",
       "[400196 rows x 1 columns]"
      ]
     },
     "execution_count": 904,
     "metadata": {},
     "output_type": "execute_result"
    }
   ],
   "source": [
    "df_street_address[\"FULL_ADDRESS_new\"] = df_street_address[\"FULL_ADDRESS\"].str.lower().str.strip()\n",
    "df_street_address[[\"FULL_ADDRESS_new\"]]"
   ]
  },
  {
   "cell_type": "code",
   "execution_count": 905,
   "metadata": {},
   "outputs": [
    {
     "data": {
      "text/plain": [
       "(396507, 33)"
      ]
     },
     "execution_count": 905,
     "metadata": {},
     "output_type": "execute_result"
    }
   ],
   "source": [
    "df_unique_street_address = df_street_address.drop_duplicates(subset=[\"FULL_ADDRESS_new\"])\n",
    "df_unique_street_address.shape"
   ]
  },
  {
   "cell_type": "code",
   "execution_count": 906,
   "metadata": {},
   "outputs": [],
   "source": [
    "df = pd.merge(df, df_unique_street_address, left_on=\"address_new\", right_on=\"FULL_ADDRESS_new\", how=\"left\")\n",
    "df[\"x_longitude\"] = df[\"x_longitude\"].combine_first(df[\"POINT_X\"])\n",
    "df[\"y_latitude\"] = df[\"y_latitude\"].combine_first(df[\"POINT_Y\"])"
   ]
  },
  {
   "cell_type": "code",
   "execution_count": 907,
   "metadata": {},
   "outputs": [
    {
     "data": {
      "text/plain": [
       "(666484, 57)"
      ]
     },
     "execution_count": 907,
     "metadata": {},
     "output_type": "execute_result"
    }
   ],
   "source": [
    "df.shape"
   ]
  },
  {
   "cell_type": "code",
   "execution_count": 908,
   "metadata": {},
   "outputs": [
    {
     "data": {
      "text/plain": [
       "Index(['permitnumber', 'worktype', 'permittypedescr', 'description',\n",
       "       'comments', 'applicant', 'declared_valuation', 'total_fees',\n",
       "       'issued_date', 'expiration_date', 'status', 'occupancytype', 'sq_feet',\n",
       "       'address', 'city', 'state', 'zip', 'property_id', 'parcel_id', 'gpsy',\n",
       "       'gpsx', 'y_latitude', 'x_longitude', 'address_new', '_id', 'OID_',\n",
       "       'SAM_ADDRESS_ID', 'BUILDING_ID', 'RELATIONSHIP_TYPE', 'FULL_ADDRESS',\n",
       "       'STREET_NUMBER', 'IS_RANGE', 'RANGE_FROM', 'RANGE_TO', 'UNIT',\n",
       "       'FULL_STREET_NAME', 'STREET_ID', 'STREET_PREFIX', 'STREET_BODY',\n",
       "       'STREET_SUFFIX_ABBR', 'STREET_FULL_SUFFIX', 'STREET_SUFFIX_DIR',\n",
       "       'STREET_NUMBER_SORT', 'MAILING_NEIGHBORHOOD', 'ZIP_CODE', 'X_COORD',\n",
       "       'Y_COORD', 'SAM_STREET_ID', 'WARD', 'PRECINCT_WARD', 'PARCEL',\n",
       "       'created_date', 'last_edited_date', 'shape_wkt', 'POINT_X', 'POINT_Y',\n",
       "       'FULL_ADDRESS_new'],\n",
       "      dtype='object')"
      ]
     },
     "execution_count": 908,
     "metadata": {},
     "output_type": "execute_result"
    }
   ],
   "source": [
    "df.columns"
   ]
  },
  {
   "cell_type": "code",
   "execution_count": 909,
   "metadata": {},
   "outputs": [],
   "source": [
    "df = df[list(df_columns) + [\"address_new\"]]"
   ]
  },
  {
   "cell_type": "code",
   "execution_count": 910,
   "metadata": {},
   "outputs": [],
   "source": [
    "missing = df[df[\"x_longitude\"].isna() & df[\"y_latitude\"].isna()].copy()"
   ]
  },
  {
   "cell_type": "code",
   "execution_count": 911,
   "metadata": {},
   "outputs": [
    {
     "data": {
      "text/plain": [
       "(7207, 24)"
      ]
     },
     "execution_count": 911,
     "metadata": {},
     "output_type": "execute_result"
    }
   ],
   "source": [
    "missing.shape"
   ]
  },
  {
   "cell_type": "code",
   "execution_count": 912,
   "metadata": {},
   "outputs": [
    {
     "data": {
      "text/plain": [
       "array(['1 financial cn', '29l-31 germania st', '1 long island', ...,\n",
       "       '2r cary pl', '1011 massachusetts av', '492-494 bennington st'],\n",
       "      dtype=object)"
      ]
     },
     "execution_count": 912,
     "metadata": {},
     "output_type": "execute_result"
    }
   ],
   "source": [
    "missing[\"address_new\"].unique()"
   ]
  },
  {
   "cell_type": "markdown",
   "metadata": {},
   "source": [
    "## Use street name to match\n",
    "After manual inspection, we found that there are mismatch between the spellings of street suffix and street number, we will do our best to clean it up by manually replacing some commonly misused suffixes."
   ]
  },
  {
   "cell_type": "markdown",
   "metadata": {},
   "source": [
    "### Remove numbers and dashes"
   ]
  },
  {
   "cell_type": "code",
   "execution_count": 913,
   "metadata": {},
   "outputs": [],
   "source": [
    "df[\"address_new\"] = df[\"address_new\"].str.replace(r\"\\b\\w*[\\d-]\\w*\\b\", \"\", regex=True).str.strip()"
   ]
  },
  {
   "cell_type": "code",
   "execution_count": 914,
   "metadata": {},
   "outputs": [
    {
     "data": {
      "text/plain": [
       "632996    - beacon st\n",
       "585109    - beacon st\n",
       "567453    - beacon st\n",
       "610311    - beacon st\n",
       "632393    - beacon st\n",
       "             ...     \n",
       "665914            NaN\n",
       "666038            NaN\n",
       "666068            NaN\n",
       "666221            NaN\n",
       "666222            NaN\n",
       "Name: address_new, Length: 666484, dtype: object"
      ]
     },
     "execution_count": 914,
     "metadata": {},
     "output_type": "execute_result"
    }
   ],
   "source": [
    "df[\"address_new\"].sort_values()"
   ]
  },
  {
   "cell_type": "code",
   "execution_count": 915,
   "metadata": {},
   "outputs": [],
   "source": [
    "df_street_address_unique_street_name = df_street_address.copy()\n",
    "df_street_address_unique_street_name[\"FULL_STREET_NAME_new\"] = df_street_address_unique_street_name[\"FULL_STREET_NAME\"].str.lower()\n",
    "df_street_address_unique_street_name = df_street_address_unique_street_name.drop_duplicates(subset=[\"FULL_STREET_NAME_new\"]).copy()"
   ]
  },
  {
   "cell_type": "code",
   "execution_count": 916,
   "metadata": {},
   "outputs": [
    {
     "data": {
      "text/plain": [
       "0                  a st\n",
       "43             abbot st\n",
       "76        abbotsford st\n",
       "95              abby rd\n",
       "104         aberdeen st\n",
       "              ...      \n",
       "133956        zamora ct\n",
       "133959        zamora st\n",
       "133974       zeigler st\n",
       "133977        zeller st\n",
       "134864              NaN\n",
       "Name: FULL_STREET_NAME_new, Length: 4113, dtype: object"
      ]
     },
     "execution_count": 916,
     "metadata": {},
     "output_type": "execute_result"
    }
   ],
   "source": [
    "df_street_address_unique_street_name[\"FULL_STREET_NAME_new\"].sort_values()"
   ]
  },
  {
   "cell_type": "code",
   "execution_count": 917,
   "metadata": {},
   "outputs": [],
   "source": [
    "df = pd.merge(df, df_street_address_unique_street_name, left_on=\"address_new\", right_on=\"FULL_STREET_NAME_new\", how=\"left\")"
   ]
  },
  {
   "cell_type": "code",
   "execution_count": 918,
   "metadata": {},
   "outputs": [],
   "source": [
    "df[\"x_longitude\"] = df[\"x_longitude\"].combine_first(df[\"POINT_X\"])\n",
    "df[\"y_latitude\"] =df[\"y_latitude\"].combine_first(df[\"POINT_Y\"])"
   ]
  },
  {
   "cell_type": "code",
   "execution_count": 919,
   "metadata": {},
   "outputs": [
    {
     "data": {
      "text/plain": [
       "(666484, 58)"
      ]
     },
     "execution_count": 919,
     "metadata": {},
     "output_type": "execute_result"
    }
   ],
   "source": [
    "df.shape"
   ]
  },
  {
   "cell_type": "code",
   "execution_count": 920,
   "metadata": {},
   "outputs": [],
   "source": [
    "df = df[list(df_columns) + [\"address_new\"]]"
   ]
  },
  {
   "cell_type": "code",
   "execution_count": 921,
   "metadata": {},
   "outputs": [],
   "source": [
    "missing = df[df[\"x_longitude\"].isna() & df[\"y_latitude\"].isna()].copy()"
   ]
  },
  {
   "cell_type": "code",
   "execution_count": 922,
   "metadata": {},
   "outputs": [
    {
     "data": {
      "text/plain": [
       "(5873, 24)"
      ]
     },
     "execution_count": 922,
     "metadata": {},
     "output_type": "execute_result"
    }
   ],
   "source": [
    "missing.shape"
   ]
  },
  {
   "cell_type": "code",
   "execution_count": 923,
   "metadata": {},
   "outputs": [
    {
     "data": {
      "text/plain": [
       "array(['financial cn', 'long island', 'first av', 'chestnut hill av',\n",
       "       'legends wy', 'massachusetts av', 'commonwealth av', 'louders ln',\n",
       "       'harrison av', 'brookline av', 'warren av', 'huntington av',\n",
       "       'walnut av', 'faneuil hall market pl', 'vfw pk', 'northern av',\n",
       "       'rutherford av', 'american legion hw', 'atlantic av',\n",
       "       'long island richards', 'commercial wharf e', 'blue hill av',\n",
       "       'e india ro', 'columbus av', 'western av', 'dorchester av',\n",
       "       'harvard av', 'damon st', 'north harvard', 'long wharf',\n",
       "       'commercial wharf east', 'forest hills av', 'mt pleasant av',\n",
       "       'marina park drive', 'rowes wharf', 'brookside av', 'necco ct',\n",
       "       'charles street south', 'thompson island', 'harvard',\n",
       "       'commercial wharf', 'longwood av', 'mcclellan hw',\n",
       "       'william f mcclellan hw', 'hyde park av', 'marbury te',\n",
       "       'gillette pk', 'odonnell te', 'wilbert ct', 'spectacle island st',\n",
       "       'neponset av', 'martin luther king jr bl', 'fifth av',\n",
       "       'franklin hill av', '- franklin hill av', 'desoto rd',\n",
       "       'harvard wa', 'union pk', 'widett ci', 'long island nichols',\n",
       "       'thompson pl', '- worcester sq', 'shawmut av', 'necco pl',\n",
       "       'william t morrissey bl', 'truman pk', 'mt vernon st',\n",
       "       'woodside av', 'walnut pk', 'longwood', 'dry dock av',\n",
       "       'washington', 'walford wa', 'brighton av', 'battery wharf',\n",
       "       'st botolph st', 'beram av', 'wood av', 'evans wy', 'e seventh',\n",
       "       'woodley av', 'mendell wy', 'st albans rd', 'snowden wa',\n",
       "       'chestnut av', 'e fifth', 'west broadway',\n",
       "       'long island morris bldg', 'delany ci', 'belle av', 'melville av',\n",
       "       'chisholm te', 'geneva av', 'durnell av', 'constitution pl',\n",
       "       'seaport bl', 'msgr p j lydon wa', 'charles river av',\n",
       "       'black falcon av', 'lewis wharf', 'charlesgate east',\n",
       "       'vfw parkway st', 'n harvard wa', 'roseberry rd', 'teresa te',\n",
       "       \"msgr dennis f. o'callaghan wy\", 'control tower wa', 'lagrange rd',\n",
       "       'msgr ocallaghan wa', 'kensington pk', 'fish pier',\n",
       "       'west springfield st', 'moon island', 'parkvale av',\n",
       "       'orton marotta wa', 'east india rd', 'w walnut pk', 'third av',\n",
       "       'broadway st', 'westinghouse pz', 'west walnut pk', 'seafood wy',\n",
       "       'st stephen st', 'long island shelter', 'union wharf',\n",
       "       'blackfan ci', 'snowden wy', 'codman pk', 'beechland st',\n",
       "       'david mugar wa', 'wood island pk', 'mary moore beatty ci',\n",
       "       'west newton st', 'bennington', 'spectacle island',\n",
       "       'w broadway st', 'linskey barry ct', 'lamartine street ex',\n",
       "       'lambert av', 'neponset valley pk', 'charles st south',\n",
       "       'franklin park', 'deer island', 'templeton st', 'homes av',\n",
       "       'electric av', 'crosstown av', 'lomasney wa', 'omeara ct',\n",
       "       'obrien ct', 'glenville av', 'hilltop st', 'fish pier rd',\n",
       "       'ledgehill rd', 'circuit dr', 'seaverns av', 'pittsburg st',\n",
       "       'delle av', 'waldemar av', 'yale te', 'rogers park av',\n",
       "       'weaver wa', 'westinghouse pl', 'leo m birmingham pw', 'vfw pw',\n",
       "       'saint richards st', 'long island bridge', 'st theresa av',\n",
       "       'old colony av', 'ridgecrest te', '- beacon st', 'oreilly wa',\n",
       "       'e india', 'highcrest te', 's huntington av', 'david g mugar wa',\n",
       "       'logan airport trmnl e', 'charlesgate east st', 'logan wa',\n",
       "       'graham te', 'william day bl', 'park pz', 'dr michael gavin wa',\n",
       "       'norfolk av', 'mt hope st', 'bethune wy', 'stadium wa',\n",
       "       'embankment rd', 'egan wa', 'daves wy', 'haul rd', 'v f w pk',\n",
       "       'cummins hw', 'n munroe te', 'gallivan bl', 'new market sq',\n",
       "       'louis te', 'cummington st', 'humboldt av', 'sterling sq',\n",
       "       'joyce hayes wa', 'dolphin wa', 'mcdonough wa', 'degauthier wa',\n",
       "       'leverett av', 'elmwood pl', 'star king ct', 'lowney wa',\n",
       "       'obrien rd', 'atherton av', 'wm c kelly sq', 'marden av',\n",
       "       'msgr a a jacobbe rd', 'st alphonsus st', 'st james av',\n",
       "       'talbot av', 'st thomas more rd', 'beechland ci', 'flaherty wa',\n",
       "       'crowley rogers wa', 'vaughan av', 'parker hill av', 'legends wa',\n",
       "       'bunker hill industrial pk', 'wm j day bl', 'bowdoin av',\n",
       "       'rockingham av', 'st james st', '- shandon rd', 'melba wa',\n",
       "       'business te', 'new england av', 'harbor point bl', 'taunton av',\n",
       "       'horadan wa', 'southern av', 'garfield av', 'neptune ci',\n",
       "       'lourdes av', 'slayton wa', '- florence st', 'highland av',\n",
       "       'cedar av', 'blue ledge te', 'blue jay ci', 'ditson', 'beacon',\n",
       "       'copley sq', 'yawkey wa', 'devine wa', 'mendell wa',\n",
       "       'cornauba street ex', 'hefferan st', 'napier pk', 'wheatley wy',\n",
       "       'cedrus av', 'fisher av', 'beauford la', 'temple te',\n",
       "       'glenwood av', 'odonnell sq', 'walford wy', 'robinwood av',\n",
       "       'broadlawn pk', 'raynor ci', 'savin hill av', 'howe te',\n",
       "       'clare av', 'kerr wa', 'wilbert ci', 'river st/ sturbridge st',\n",
       "       'east fourth st', 'woodstock av', 'w roxbury pk', 'bickford av',\n",
       "       'north av', 'codman hill av', 'roslindale av',\n",
       "       'brooke marshall rd', 'tibbets town wa', 'dana av', 'polk rd',\n",
       "       'park vale av', 'msgr reynolds wa', 'melvin av', 'quint av',\n",
       "       'martin luther king jr. bl', 'fidelis wa', 'love joy pl',\n",
       "       'v f w pw', 'faywood av', 'copps hill te', 'greenmount pl',\n",
       "       'huntington', 'joy', 'fid kennedy av', '- old landing wa',\n",
       "       'arborway te', 'vermont', 'tchapitoulas st', 'gen wm h devine wa',\n",
       "       'patterson wa', 'rev r a burke st', 'darius ct', 'lawrence av',\n",
       "       'gavin wy', 'cottage', 'franklin pk', 'long island pavilion',\n",
       "       'granfield av', 'st rose st', 'chelsea', 'lansdowne', 'colberg av',\n",
       "       'bakers al', 'monument av', 'long wh', 'horan wa', 'templeton wa',\n",
       "       'tafts av', 's crescent ci', 'leo m birmingham pk'], dtype=object)"
      ]
     },
     "execution_count": 923,
     "metadata": {},
     "output_type": "execute_result"
    }
   ],
   "source": [
    "missing[\"address_new\"].unique()"
   ]
  },
  {
   "cell_type": "markdown",
   "metadata": {},
   "source": [
    "### Fix street suffix"
   ]
  },
  {
   "cell_type": "code",
   "execution_count": 924,
   "metadata": {},
   "outputs": [],
   "source": [
    "df['address_new'] = df['address_new'].str.replace(r'^\\bst\\b', 'saint', case=False, regex=True)\n",
    "df['address_new'] = df['address_new'].str.replace(r'\\bhw\\b$', 'hwy', case=False, regex=True)\n",
    "df['address_new'] = df['address_new'].str.replace(r'\\bte\\b$', \"ter\", case=False, regex=True)\n",
    "df['address_new'] = df['address_new'].str.replace(r'\\bwa\\b$', \"way\", case=False, regex=True)\n",
    "df['address_new'] = df['address_new'].str.replace(r'^\\bmsgr\\b', 'monsignor', case=False, regex=True)\n",
    "df['address_new'] = df['address_new'].str.replace(r'\\bav\\b$', 'ave', case=False, regex=True)\n",
    "df['address_new'] = df['address_new'].str.replace(r'^mt\\b', 'mount', case=False, regex=True)\n",
    "df['address_new'] = df['address_new'].str.replace(r'\\bal\\b$', 'aly', case=False, regex=True)\n",
    "df['address_new'] = df['address_new'].str.replace(r'\\bcn\\b$', 'ctr', case=False, regex=True)\n",
    "df['address_new'] = df['address_new'].str.replace(r'\\bwy\\b$', 'way', case=False, regex=True)\n",
    "df['address_new'] = df['address_new'].str.replace(r'\\bwh\\b', 'whf', case=False, regex=True)\n",
    "df['address_new'] = df['address_new'].str.replace(r'\\bwharf\\b', 'whf', case=False, regex=True)\n",
    "df['address_new'] = df['address_new'].str.replace(r'\\bpk\\b$', 'park', case=False, regex=True)\n",
    "df['address_new'] = df['address_new'].str.replace(r'\\bro\\b$', 'row', case=False, regex=True)\n",
    "df['address_new'] = df['address_new'].str.replace(r'\\bbl\\b$', 'blvd', case=False, regex=True)\n",
    "df['address_new'] = df['address_new'].str.replace(r'\\bci\\b$', 'cir', case=False, regex=True)\n",
    "df['address_new'] = df['address_new'].str.replace(r'\\bdrive\\b$', 'dr', case=False, regex=True)\n",
    "df['address_new'] = df['address_new'].str.replace(r'\\bpkwy\\b$', 'parkway', case=False, regex=True)\n",
    "df['address_new'] = df['address_new'].str.replace(r'^commercial whf east$', \"commercial whf e\", case=False, regex=True)\n",
    "df['address_new'] = df['address_new'].str.replace(r'^commercial whf$', \"commercial whf e\", case=False, regex=True)\n",
    "df['address_new'] = df['address_new'].str.replace(r'^fish pier$', \"boston fish pier\", case=False, regex=True)\n",
    "df['address_new'] = df['address_new'].str.replace(r'^a fish pier$', \"boston fish pier\", case=False, regex=True)\n",
    "df['address_new'] = df['address_new'].str.replace(r'^fish pier rd$', \"boston fish pier\", case=False, regex=True)\n",
    "df['address_new'] = df['address_new'].str.replace(r'parkvale', \"park vale\", case=False, regex=True)\n",
    "df['address_new'] = df['address_new'].str.replace(r'\\bwm\\b', \"william\", case=False, regex=True)\n",
    "df['address_new'] = df['address_new'].str.replace(r'^charlesgate east st$', \"charlesgate e st\", case=False, regex=True)\n",
    "df['address_new'] = df['address_new'].str.replace(r'^s crescent cc$', \"s crescent cirt\", case=False, regex=True)\n",
    "df['address_new'] = df['address_new'].str.replace(r'^s crescent cir$', \"s crescent cirt\", case=False, regex=True)\n",
    "df['address_new'] = df['address_new'].str.replace(r'^charles street south$', \"charles st s\", case=False, regex=True)\n",
    "df['address_new'] = df['address_new'].str.replace(r'^east india rd$', \"east india row\", case=False, regex=True)\n",
    "df['address_new'] = df['address_new'].str.replace(r'^saint richards$', \"saint richard\", case=False, regex=True)\n",
    "df['address_new'] = df['address_new'].str.replace(\"e seventh\", \"e seventh st\", case=False, regex=True)\n",
    "df['address_new'] = df['address_new'].str.replace(\"east fourth st\", \"e fourth st\", case=False, regex=True)\n",
    "df['address_new'] = df['address_new'].str.replace(\"e fifth\", \"e fifth st\", case=False, regex=True)\n",
    "df['address_new'] = df['address_new'].str.replace(\"n harvard\", \"n harvard st\", case=False, regex=True)\n",
    "df['address_new'] = df['address_new'].str.replace('east india', \"e india\", case=False, regex=True)\n",
    "df['address_new'] = df['address_new'].str.replace(\"west walnut\", \"w walnut\", case=False, regex=True)\n",
    "df['address_new'] = df['address_new'].str.replace(\"west newton\", \"w newton\", case=False, regex=True)\n",
    "df['address_new'] = df['address_new'].str.replace(\"west springfield\", \"w springfield\", case=False, regex=True)\n",
    "df['address_new'] = df['address_new'].str.replace(r\"[^a-zA-Z0-9 ]\", \"\", regex=True).str.strip()\n",
    "df_street_address_unique_street_name[\"FULL_STREET_NAME_new\"] = df_street_address_unique_street_name[\"FULL_STREET_NAME_new\"].str.replace(r\"[^a-zA-Z0-9 ]\", \"\", regex=True).str.strip()"
   ]
  },
  {
   "cell_type": "code",
   "execution_count": 925,
   "metadata": {},
   "outputs": [],
   "source": [
    "df = pd.merge(df, df_street_address_unique_street_name, left_on=\"address_new\", right_on=\"FULL_STREET_NAME_new\", how=\"left\")"
   ]
  },
  {
   "cell_type": "code",
   "execution_count": 926,
   "metadata": {},
   "outputs": [],
   "source": [
    "df[\"x_longitude\"] = df[\"x_longitude\"].combine_first(df[\"POINT_X\"])\n",
    "df[\"y_latitude\"] =df[\"y_latitude\"].combine_first(df[\"POINT_Y\"])"
   ]
  },
  {
   "cell_type": "code",
   "execution_count": 927,
   "metadata": {},
   "outputs": [
    {
     "data": {
      "text/plain": [
       "(666484, 58)"
      ]
     },
     "execution_count": 927,
     "metadata": {},
     "output_type": "execute_result"
    }
   ],
   "source": [
    "df.shape"
   ]
  },
  {
   "cell_type": "code",
   "execution_count": 928,
   "metadata": {},
   "outputs": [],
   "source": [
    "df = df[list(df_columns) + [\"address_new\"]]"
   ]
  },
  {
   "cell_type": "code",
   "execution_count": 929,
   "metadata": {},
   "outputs": [],
   "source": [
    "missing = df[df[\"x_longitude\"].isna() & df[\"y_latitude\"].isna()].copy()"
   ]
  },
  {
   "cell_type": "code",
   "execution_count": 930,
   "metadata": {},
   "outputs": [
    {
     "data": {
      "text/plain": [
       "(1000, 24)"
      ]
     },
     "execution_count": 930,
     "metadata": {},
     "output_type": "execute_result"
    }
   ],
   "source": [
    "missing.shape"
   ]
  },
  {
   "cell_type": "code",
   "execution_count": 931,
   "metadata": {},
   "outputs": [
    {
     "data": {
      "text/plain": [
       "array(['long island', 'faneuil hall market pl', 'vfw park',\n",
       "       'long island richards', 'damon st', 'north harvard', 'necco ct',\n",
       "       'thompson island', 'harvard', 'mcclellan hwy', 'wilbert ct',\n",
       "       'spectacle island st', 'desoto rd', 'long island nichols',\n",
       "       'thompson pl', 'necco pl', 'truman park', 'longwood', 'washington',\n",
       "       'west broadway', 'long island morris bldg', 'constitution pl',\n",
       "       'monsignor p j lydon way', 'charlesgate east', 'vfw parkway st',\n",
       "       'n harvard st way', 'roseberry rd', 'lagrange rd',\n",
       "       'monsignor ocallaghan way', 'moon island', 'orton marotta way',\n",
       "       'broadway st', 'westinghouse pz', 'long island shelter',\n",
       "       'beechland st', 'david mugar way', 'wood island park',\n",
       "       'mary moore beatty cir', 'bennington', 'spectacle island',\n",
       "       'w broadway st', 'linskey barry ct', 'lamartine street ex',\n",
       "       'neponset valley park', 'charles st south', 'franklin park',\n",
       "       'deer island', 'templeton st', 'hilltop st', 'ledgehill rd',\n",
       "       'circuit dr', 'pittsburg st', 'westinghouse pl',\n",
       "       'leo m birmingham pw', 'vfw pw', 'saint richards st',\n",
       "       'long island bridge', 'e india', 'logan airport trmnl e',\n",
       "       'charlesgate e st', 'logan way', 'william day blvd', 'park pz',\n",
       "       'stadium way', 'embankment rd', 'daves way', 'haul rd',\n",
       "       'v f w park', 'new market sq', 'cummington st', 'sterling sq',\n",
       "       'mcdonough way', 'degauthier way', 'elmwood pl', 'star king ct',\n",
       "       'lowney way', 'obrien rd', 'monsignor a a jacobbe rd',\n",
       "       'crowley rogers way', 'cedar ave', 'ditson', 'beacon', 'copley sq',\n",
       "       'yawkey way', 'devine way', 'cornauba street ex', 'hefferan st',\n",
       "       'beauford la', 'odonnell sq', 'kerr way', 'river st sturbridge st',\n",
       "       'w roxbury park', 'brooke marshall rd', 'tibbets town way',\n",
       "       'polk rd', 'love joy pl', 'v f w pw', 'greenmount pl',\n",
       "       'huntington', 'joy', 'vermont', 'tchapitoulas st',\n",
       "       'gen william h devine way', 'rev r a burke st', 'darius ct',\n",
       "       'gavin way', 'cottage', 'long island pavilion', 'chelsea',\n",
       "       'lansdowne', 'leo m birmingham park'], dtype=object)"
      ]
     },
     "execution_count": 931,
     "metadata": {},
     "output_type": "execute_result"
    }
   ],
   "source": [
    "missing[\"address_new\"].unique()"
   ]
  },
  {
   "cell_type": "markdown",
   "metadata": {},
   "source": [
    "### Remove suffix\n",
    "Compare only street body."
   ]
  },
  {
   "cell_type": "code",
   "execution_count": 932,
   "metadata": {},
   "outputs": [],
   "source": [
    "def remove_last_word(text):\n",
    "    words = text.split()  # Split the string into words\n",
    "    if len(words) <= 1:\n",
    "        return text  # Return the original string if it's the only word\n",
    "    words = words[:-1]  # Remove the last word using slicing\n",
    "    return ' '.join(words)"
   ]
  },
  {
   "cell_type": "code",
   "execution_count": 933,
   "metadata": {},
   "outputs": [],
   "source": [
    "df[\"address_new\"] = df[\"address_new\"].astype(str)\n",
    "df[\"address_new\"] = df[\"address_new\"].str.replace(r\"\\b\\w*[^\\w\\s]\\w*\\b|\\b\\w*\\d\\w*\\b\", \"\", regex=True)\n",
    "df[\"address_new\"] = df[\"address_new\"].str.strip()\n",
    "df[\"address_new\"] = df[\"address_new\"].apply(remove_last_word)"
   ]
  },
  {
   "cell_type": "code",
   "execution_count": 934,
   "metadata": {},
   "outputs": [
    {
     "data": {
      "text/plain": [
       "array(['state', 'w boundary', 'prospect', ..., 'a acorn', 'mindoro',\n",
       "       'marbury te'], dtype=object)"
      ]
     },
     "execution_count": 934,
     "metadata": {},
     "output_type": "execute_result"
    }
   ],
   "source": [
    "df[\"address_new\"].unique()"
   ]
  },
  {
   "cell_type": "code",
   "execution_count": 935,
   "metadata": {},
   "outputs": [],
   "source": [
    "df_street_address_unique_street_body = df_street_address_unique_street_name.copy()\n",
    "df_street_address_unique_street_body[\"STREET_BODY_new\"] = df_street_address_unique_street_body[\"STREET_BODY\"].str.replace(r\"[^a-zA-Z0-9 ]\", \"\", regex=True).str.strip()\n",
    "df_street_address_unique_street_body[\"STREET_BODY_new\"] = df_street_address_unique_street_body[\"STREET_BODY_new\"].str.lower().str.strip()\n",
    "df_street_address_unique_street_body.drop_duplicates(subset=[\"STREET_BODY_new\"], inplace=True)"
   ]
  },
  {
   "cell_type": "code",
   "execution_count": 936,
   "metadata": {},
   "outputs": [],
   "source": [
    "df = pd.merge(df, df_street_address_unique_street_body, left_on=\"address_new\", right_on=\"STREET_BODY_new\", how=\"left\")"
   ]
  },
  {
   "cell_type": "code",
   "execution_count": 937,
   "metadata": {},
   "outputs": [],
   "source": [
    "df[\"x_longitude\"] = df[\"x_longitude\"].combine_first(df[\"POINT_X\"])\n",
    "df[\"y_latitude\"] =df[\"y_latitude\"].combine_first(df[\"POINT_Y\"])"
   ]
  },
  {
   "cell_type": "code",
   "execution_count": 938,
   "metadata": {},
   "outputs": [
    {
     "data": {
      "text/plain": [
       "(666484, 59)"
      ]
     },
     "execution_count": 938,
     "metadata": {},
     "output_type": "execute_result"
    }
   ],
   "source": [
    "df.shape"
   ]
  },
  {
   "cell_type": "code",
   "execution_count": 939,
   "metadata": {},
   "outputs": [],
   "source": [
    "df = df[list(df_columns) + [\"address_new\"]]"
   ]
  },
  {
   "cell_type": "code",
   "execution_count": 940,
   "metadata": {},
   "outputs": [],
   "source": [
    "missing = df[df[\"x_longitude\"].isna() & df[\"y_latitude\"].isna()].copy()"
   ]
  },
  {
   "cell_type": "code",
   "execution_count": 941,
   "metadata": {},
   "outputs": [
    {
     "data": {
      "text/plain": [
       "(353, 24)"
      ]
     },
     "execution_count": 941,
     "metadata": {},
     "output_type": "execute_result"
    }
   ],
   "source": [
    "missing.shape"
   ]
  },
  {
   "cell_type": "code",
   "execution_count": 942,
   "metadata": {},
   "outputs": [
    {
     "data": {
      "text/plain": [
       "array(['faneuil hall market', 'mcclellan', 'spectacle island', 'desoto',\n",
       "       'long island morris', 'monsignor p j lydon', 'vfw parkway',\n",
       "       'n harvard st', 'roseberry', 'monsignor ocallaghan',\n",
       "       'orton marotta', 'david mugar', 'wood island', 'mary moore beatty',\n",
       "       'spectacle', 'w broadway', 'linskey barry', 'lamartine street',\n",
       "       'charles st', 'hilltop', 'ledgehill', 'pittsburg',\n",
       "       'saint richards', 'logan airport trmnl', 'charlesgate e',\n",
       "       'william day', 'stadium', 'embankment', 'daves', 'haul', 'v f w',\n",
       "       'new market', 'sterling', 'degauthier', 'star king', 'lowney',\n",
       "       'monsignor a a jacobbe', 'crowley rogers', 'yawkey', 'devine',\n",
       "       'hefferan', 'river st sturbridge', 'w roxbury', 'brooke marshall',\n",
       "       'tibbets town', 'love joy', 'tchapitoulas', 'gen william h devine',\n",
       "       'rev r a burke', 'darius', 'gavin'], dtype=object)"
      ]
     },
     "execution_count": 942,
     "metadata": {},
     "output_type": "execute_result"
    }
   ],
   "source": [
    "missing[\"address_new\"].unique()"
   ]
  },
  {
   "cell_type": "markdown",
   "metadata": {},
   "source": [
    "### Correct name misspelling or unconventional abbreviation\n",
    "Compare to street body"
   ]
  },
  {
   "cell_type": "code",
   "execution_count": 943,
   "metadata": {},
   "outputs": [],
   "source": [
    "df['address_new'] = df['address_new'].str.replace(r'^linskey barry$', \"linskybarry\", case=False, regex=True)\n",
    "df['address_new'] = df['address_new'].str.replace(r'^orton marotta$', \"ortonmarotta\", case=False, regex=True)\n",
    "df['address_new'] = df['address_new'].str.replace(r'^mary moore beatty$', \"dr mary moore beatty\", case=False, regex=True)\n",
    "df['address_new'] = df['address_new'].str.replace(r'^lamartine street$', \"lamartine\", case=False, regex=True)\n",
    "df['address_new'] = df['address_new'].str.replace(r'^charles st$', \"charles\", case=False, regex=True)\n",
    "df['address_new'] = df['address_new'].str.replace(r'^hilltop$', \"hill top\", case=False, regex=True)\n",
    "df['address_new'] = df['address_new'].str.replace(r'^ledgehill$', \"ledge hill\", case=False, regex=True)\n",
    "df['address_new'] = df['address_new'].str.replace(r'^saint richards$', \"saint richard\", case=False, regex=True)\n",
    "df['address_new'] = df['address_new'].str.replace(r'^sterling$', \"henry sterling\", case=False, regex=True)\n",
    "df['address_new'] = df['address_new'].str.replace(r'^monsignor a a jacobbe$', \"monsignor albert a jacobbe\", case=False, regex=True)\n",
    "df['address_new'] = df['address_new'].str.replace(r'^crowley rogers$', \"crowleyrogers\", case=False, regex=True)\n",
    "df['address_new'] = df['address_new'].str.replace(r'^brooke marshall$', \"brook marshall\", case=False, regex=True)\n",
    "df['address_new'] = df['address_new'].str.replace(r'^tibbets town$', \"tibbetts town\", case=False, regex=True)\n",
    "df['address_new'] = df['address_new'].str.replace(r'^gen william h devine$', \"general william h devine\", case=False, regex=True)\n",
    "df['address_new'] = df['address_new'].str.replace(r'^rev r a burke$', \"rev richard a burke\", case=False, regex=True)\n",
    "df['address_new'] = df['address_new'].str.replace(r'^david mugar$', \"David G Mugar\", case=False, regex=True)\n",
    "df['address_new'] = df['address_new'].str.replace(r'^monsignor ocallaghan$', \"monsignor dennis f ocallaghan\", case=False, regex=True)\n",
    "df['address_new'] = df['address_new'].str.replace(r'^roseberry$', \"rosebery\", case=False, regex=True)\n",
    "df['address_new'] = df['address_new'].str.replace(r'^monsignor p j lydon$', \"monsignor patrick j lydon\", case=False, regex=True)\n",
    "df['address_new'] = df['address_new'].str.replace(r'mcclellan', \"william f mcclellan\", case=False, regex=True)"
   ]
  },
  {
   "cell_type": "code",
   "execution_count": 944,
   "metadata": {},
   "outputs": [],
   "source": [
    "df = pd.merge(df, df_street_address_unique_street_body, left_on=\"address_new\", right_on=\"STREET_BODY_new\", how=\"left\")"
   ]
  },
  {
   "cell_type": "code",
   "execution_count": 945,
   "metadata": {},
   "outputs": [],
   "source": [
    "df[\"x_longitude\"] = df[\"x_longitude\"].combine_first(df[\"POINT_X\"])\n",
    "df[\"y_latitude\"] =df[\"y_latitude\"].combine_first(df[\"POINT_Y\"])"
   ]
  },
  {
   "cell_type": "code",
   "execution_count": 946,
   "metadata": {},
   "outputs": [
    {
     "data": {
      "text/plain": [
       "(666484, 59)"
      ]
     },
     "execution_count": 946,
     "metadata": {},
     "output_type": "execute_result"
    }
   ],
   "source": [
    "df.shape"
   ]
  },
  {
   "cell_type": "code",
   "execution_count": 947,
   "metadata": {},
   "outputs": [],
   "source": [
    "df = df[list(df_columns) + [\"address_new\"]]"
   ]
  },
  {
   "cell_type": "code",
   "execution_count": 948,
   "metadata": {},
   "outputs": [],
   "source": [
    "missing = df[df[\"x_longitude\"].isna() & df[\"y_latitude\"].isna()].copy()"
   ]
  },
  {
   "cell_type": "code",
   "execution_count": 949,
   "metadata": {},
   "outputs": [
    {
     "data": {
      "text/plain": [
       "(252, 24)"
      ]
     },
     "execution_count": 949,
     "metadata": {},
     "output_type": "execute_result"
    }
   ],
   "source": [
    "missing.shape"
   ]
  },
  {
   "cell_type": "code",
   "execution_count": 950,
   "metadata": {},
   "outputs": [
    {
     "data": {
      "text/plain": [
       "array(['faneuil hall market', 'spectacle island', 'desoto',\n",
       "       'long island morris', 'vfw parkway', 'n harvard st',\n",
       "       'David G Mugar', 'wood island', 'spectacle', 'w broadway',\n",
       "       'pittsburg', 'logan airport trmnl', 'charlesgate e', 'william day',\n",
       "       'stadium', 'embankment', 'daves', 'haul', 'v f w', 'new market',\n",
       "       'degauthier', 'star king', 'lowney', 'yawkey', 'devine',\n",
       "       'hefferan', 'river st sturbridge', 'w roxbury', 'love joy',\n",
       "       'tchapitoulas', 'darius', 'gavin'], dtype=object)"
      ]
     },
     "execution_count": 950,
     "metadata": {},
     "output_type": "execute_result"
    }
   ],
   "source": [
    "missing[\"address_new\"].unique()"
   ]
  },
  {
   "cell_type": "markdown",
   "metadata": {},
   "source": [
    "There are 252 addresses without coordinates because the name doesn't appear in Live Address Street Management. We'll check against District 7 ZIP Code to see how many out of 304 may be in District 7."
   ]
  },
  {
   "cell_type": "code",
   "execution_count": 959,
   "metadata": {},
   "outputs": [
    {
     "data": {
      "text/plain": [
       "(252, 24)"
      ]
     },
     "execution_count": 959,
     "metadata": {},
     "output_type": "execute_result"
    }
   ],
   "source": [
    "df[df[\"x_longitude\"].isna() & df[\"y_latitude\"].isna()].shape"
   ]
  },
  {
   "cell_type": "code",
   "execution_count": 951,
   "metadata": {},
   "outputs": [],
   "source": [
    "district_shapefile = gpd.read_file(\"../data/city-council-district\")\n",
    "zip_shapefile = gpd.read_file(\"../data/zip-codes\")"
   ]
  },
  {
   "cell_type": "code",
   "execution_count": 952,
   "metadata": {},
   "outputs": [],
   "source": [
    "if zip_shapefile.crs != district_shapefile.crs:\n",
    "    zip_shapefile = zip_shapefile.to_crs(district_shapefile.crs)\n",
    "district_7 = district_shapefile[district_shapefile[\"DISTRICT\"] == 7]\n",
    "zip_in_district_7 = gpd.sjoin(zip_shapefile, district_7, how=\"inner\", predicate=\"intersects\")\n",
    "unique_zip_codes = zip_in_district_7[\"ZIP5\"].unique()"
   ]
  },
  {
   "cell_type": "code",
   "execution_count": 953,
   "metadata": {},
   "outputs": [
    {
     "data": {
      "text/plain": [
       "array(['02125', '02118', '02130', '02121', '02119', '02115', '02116',\n",
       "       '02120', '02215'], dtype=object)"
      ]
     },
     "execution_count": 953,
     "metadata": {},
     "output_type": "execute_result"
    }
   ],
   "source": [
    "unique_zip_codes"
   ]
  },
  {
   "cell_type": "markdown",
   "metadata": {},
   "source": [
    "8 addresses may be in District 7 going by the ZIP code. We deem like the number is small enough that we can drop the rows without impacting analysis for District 7."
   ]
  },
  {
   "cell_type": "code",
   "execution_count": 954,
   "metadata": {},
   "outputs": [
    {
     "data": {
      "text/plain": [
       "154111    william day\n",
       "175190     new market\n",
       "192520     degauthier\n",
       "322075         yawkey\n",
       "322612         yawkey\n",
       "323387         yawkey\n",
       "511586         yawkey\n",
       "666438         yawkey\n",
       "Name: address_new, dtype: object"
      ]
     },
     "execution_count": 954,
     "metadata": {},
     "output_type": "execute_result"
    }
   ],
   "source": [
    "missing[missing[\"zip\"].isin(unique_zip_codes)][\"address_new\"]"
   ]
  },
  {
   "cell_type": "code",
   "execution_count": 960,
   "metadata": {},
   "outputs": [],
   "source": [
    "df = df.dropna(subset=[\"x_longitude\", \"y_latitude\"], how=\"all\")"
   ]
  },
  {
   "cell_type": "code",
   "execution_count": 961,
   "metadata": {},
   "outputs": [
    {
     "data": {
      "text/plain": [
       "(0, 24)"
      ]
     },
     "execution_count": 961,
     "metadata": {},
     "output_type": "execute_result"
    }
   ],
   "source": [
    "df[df[\"x_longitude\"].isna() & df[\"y_latitude\"].isna()].shape"
   ]
  },
  {
   "cell_type": "code",
   "execution_count": 965,
   "metadata": {},
   "outputs": [],
   "source": [
    "df = df[df_columns]"
   ]
  },
  {
   "cell_type": "code",
   "execution_count": 966,
   "metadata": {},
   "outputs": [
    {
     "data": {
      "text/html": [
       "<div>\n",
       "<style scoped>\n",
       "    .dataframe tbody tr th:only-of-type {\n",
       "        vertical-align: middle;\n",
       "    }\n",
       "\n",
       "    .dataframe tbody tr th {\n",
       "        vertical-align: top;\n",
       "    }\n",
       "\n",
       "    .dataframe thead th {\n",
       "        text-align: right;\n",
       "    }\n",
       "</style>\n",
       "<table border=\"1\" class=\"dataframe\">\n",
       "  <thead>\n",
       "    <tr style=\"text-align: right;\">\n",
       "      <th></th>\n",
       "      <th>permitnumber</th>\n",
       "      <th>worktype</th>\n",
       "      <th>permittypedescr</th>\n",
       "      <th>description</th>\n",
       "      <th>comments</th>\n",
       "      <th>applicant</th>\n",
       "      <th>declared_valuation</th>\n",
       "      <th>total_fees</th>\n",
       "      <th>issued_date</th>\n",
       "      <th>expiration_date</th>\n",
       "      <th>...</th>\n",
       "      <th>city</th>\n",
       "      <th>state</th>\n",
       "      <th>zip</th>\n",
       "      <th>property_id</th>\n",
       "      <th>parcel_id</th>\n",
       "      <th>gpsy</th>\n",
       "      <th>gpsx</th>\n",
       "      <th>y_latitude</th>\n",
       "      <th>x_longitude</th>\n",
       "      <th>geometry</th>\n",
       "    </tr>\n",
       "  </thead>\n",
       "  <tbody>\n",
       "    <tr>\n",
       "      <th>0</th>\n",
       "      <td>A1000569</td>\n",
       "      <td>INTEXT</td>\n",
       "      <td>Amendment to a Long Form</td>\n",
       "      <td>Interior/Exterior Work</td>\n",
       "      <td>This work is to Amend Permit ALT347244. Elimin...</td>\n",
       "      <td>Patrick Sharkey</td>\n",
       "      <td>$36,500.00</td>\n",
       "      <td>$390.00</td>\n",
       "      <td>2021-01-28 16:29:26+00</td>\n",
       "      <td>2021-07-28 04:00:00+00</td>\n",
       "      <td>...</td>\n",
       "      <td>Boston</td>\n",
       "      <td>MA</td>\n",
       "      <td>02109</td>\n",
       "      <td>130392.0</td>\n",
       "      <td>3.038070e+08</td>\n",
       "      <td>2.956235e+06</td>\n",
       "      <td>777000.467910</td>\n",
       "      <td>42.359190</td>\n",
       "      <td>-71.052924</td>\n",
       "      <td>POINT (-71.053 42.359)</td>\n",
       "    </tr>\n",
       "    <tr>\n",
       "      <th>1</th>\n",
       "      <td>A100071</td>\n",
       "      <td>COB</td>\n",
       "      <td>Amendment to a Long Form</td>\n",
       "      <td>City of Boston</td>\n",
       "      <td>Change connector link layout from attached enc...</td>\n",
       "      <td>Renee Santeusanio</td>\n",
       "      <td>$40,000.00</td>\n",
       "      <td>$29.00</td>\n",
       "      <td>2011-11-04 15:04:58+00</td>\n",
       "      <td>2012-05-04 04:00:00+00</td>\n",
       "      <td>...</td>\n",
       "      <td>West Roxbury</td>\n",
       "      <td>MA</td>\n",
       "      <td>02132</td>\n",
       "      <td>17268.0</td>\n",
       "      <td>2.012032e+09</td>\n",
       "      <td>2.920239e+06</td>\n",
       "      <td>751016.119617</td>\n",
       "      <td>42.260750</td>\n",
       "      <td>-71.149611</td>\n",
       "      <td>POINT (-71.15 42.261)</td>\n",
       "    </tr>\n",
       "    <tr>\n",
       "      <th>2</th>\n",
       "      <td>A1001012</td>\n",
       "      <td>OTHER</td>\n",
       "      <td>Amendment to a Long Form</td>\n",
       "      <td>Other</td>\n",
       "      <td>Amend Alt943748 to erect a roof deck as per pl...</td>\n",
       "      <td>Jusimar Oliveria</td>\n",
       "      <td>$5,000.00</td>\n",
       "      <td>$70.00</td>\n",
       "      <td>2020-06-01 18:08:47+00</td>\n",
       "      <td>NaN</td>\n",
       "      <td>...</td>\n",
       "      <td>Charlestown</td>\n",
       "      <td>MA</td>\n",
       "      <td>02129</td>\n",
       "      <td>113443.0</td>\n",
       "      <td>2.028370e+08</td>\n",
       "      <td>2.962078e+06</td>\n",
       "      <td>775710.380595</td>\n",
       "      <td>42.375243</td>\n",
       "      <td>-71.057585</td>\n",
       "      <td>POINT (-71.058 42.375)</td>\n",
       "    </tr>\n",
       "    <tr>\n",
       "      <th>3</th>\n",
       "      <td>A1001201</td>\n",
       "      <td>INTEXT</td>\n",
       "      <td>Amendment to a Long Form</td>\n",
       "      <td>Interior/Exterior Work</td>\n",
       "      <td>Build steel balcony over garden level with sta...</td>\n",
       "      <td>Andreas Hwang</td>\n",
       "      <td>$74,295.75</td>\n",
       "      <td>$803.00</td>\n",
       "      <td>2019-11-13 18:38:56+00</td>\n",
       "      <td>2020-05-13 04:00:00+00</td>\n",
       "      <td>...</td>\n",
       "      <td>Roxbury</td>\n",
       "      <td>MA</td>\n",
       "      <td>02118</td>\n",
       "      <td>129994.0</td>\n",
       "      <td>4.025580e+08</td>\n",
       "      <td>2.949423e+06</td>\n",
       "      <td>769648.312667</td>\n",
       "      <td>42.340600</td>\n",
       "      <td>-71.080251</td>\n",
       "      <td>POINT (-71.08 42.341)</td>\n",
       "    </tr>\n",
       "    <tr>\n",
       "      <th>4</th>\n",
       "      <td>A100137</td>\n",
       "      <td>EXTREN</td>\n",
       "      <td>Amendment to a Long Form</td>\n",
       "      <td>Renovations - Exterior</td>\n",
       "      <td>Landscaping/stonework - amending permit #2801/...</td>\n",
       "      <td>NaN</td>\n",
       "      <td>$15,000.00</td>\n",
       "      <td>$182.00</td>\n",
       "      <td>2013-01-03 19:13:09+00</td>\n",
       "      <td>2013-07-03 04:00:00+00</td>\n",
       "      <td>...</td>\n",
       "      <td>Brighton</td>\n",
       "      <td>MA</td>\n",
       "      <td>02135</td>\n",
       "      <td>149852.0</td>\n",
       "      <td>2.204944e+09</td>\n",
       "      <td>2.950791e+06</td>\n",
       "      <td>749690.298777</td>\n",
       "      <td>42.344600</td>\n",
       "      <td>-71.154051</td>\n",
       "      <td>POINT (-71.154 42.345)</td>\n",
       "    </tr>\n",
       "    <tr>\n",
       "      <th>...</th>\n",
       "      <td>...</td>\n",
       "      <td>...</td>\n",
       "      <td>...</td>\n",
       "      <td>...</td>\n",
       "      <td>...</td>\n",
       "      <td>...</td>\n",
       "      <td>...</td>\n",
       "      <td>...</td>\n",
       "      <td>...</td>\n",
       "      <td>...</td>\n",
       "      <td>...</td>\n",
       "      <td>...</td>\n",
       "      <td>...</td>\n",
       "      <td>...</td>\n",
       "      <td>...</td>\n",
       "      <td>...</td>\n",
       "      <td>...</td>\n",
       "      <td>...</td>\n",
       "      <td>...</td>\n",
       "      <td>...</td>\n",
       "      <td>...</td>\n",
       "    </tr>\n",
       "    <tr>\n",
       "      <th>666479</th>\n",
       "      <td>U49993435</td>\n",
       "      <td>OSEAT</td>\n",
       "      <td>Use of Premises</td>\n",
       "      <td>Outside Seating</td>\n",
       "      <td>Outdoor patio / amenity space for commercial o...</td>\n",
       "      <td>Christine McMahon</td>\n",
       "      <td>$0.00</td>\n",
       "      <td>$50.00</td>\n",
       "      <td>2019-09-25 15:36:11+00</td>\n",
       "      <td>2020-03-25 04:00:00+00</td>\n",
       "      <td>...</td>\n",
       "      <td>Boston</td>\n",
       "      <td>MA</td>\n",
       "      <td>02114</td>\n",
       "      <td>154961.0</td>\n",
       "      <td>3.027170e+08</td>\n",
       "      <td>2.956658e+06</td>\n",
       "      <td>774864.862273</td>\n",
       "      <td>42.360383</td>\n",
       "      <td>-71.060818</td>\n",
       "      <td>POINT (-71.061 42.36)</td>\n",
       "    </tr>\n",
       "    <tr>\n",
       "      <th>666480</th>\n",
       "      <td>U49993492</td>\n",
       "      <td>TEMTRL</td>\n",
       "      <td>Use of Premises</td>\n",
       "      <td>Temporary Trailers</td>\n",
       "      <td>Temporary Construction Trailer at Herb Chamber...</td>\n",
       "      <td>Regina Olivieri</td>\n",
       "      <td>$1,000.00</td>\n",
       "      <td>$53.00</td>\n",
       "      <td>2019-09-12 17:07:00+00</td>\n",
       "      <td>2020-03-12 04:00:00+00</td>\n",
       "      <td>...</td>\n",
       "      <td>Allston</td>\n",
       "      <td>MA</td>\n",
       "      <td>02134</td>\n",
       "      <td>424193.0</td>\n",
       "      <td>2.101574e+09</td>\n",
       "      <td>2.952823e+06</td>\n",
       "      <td>756414.438216</td>\n",
       "      <td>42.350100</td>\n",
       "      <td>-71.129145</td>\n",
       "      <td>POINT (-71.129 42.35)</td>\n",
       "    </tr>\n",
       "    <tr>\n",
       "      <th>666481</th>\n",
       "      <td>U4999352</td>\n",
       "      <td>DRIVE</td>\n",
       "      <td>Use of Premises</td>\n",
       "      <td>Driveway Installation</td>\n",
       "      <td>Owners would like to install a curb cut and a ...</td>\n",
       "      <td>Maria Dubrowski</td>\n",
       "      <td>$2,700.00</td>\n",
       "      <td>$53.00</td>\n",
       "      <td>2012-05-30 18:28:59+00</td>\n",
       "      <td>2012-11-30 05:00:00+00</td>\n",
       "      <td>...</td>\n",
       "      <td>Jamaica Plain</td>\n",
       "      <td>MA</td>\n",
       "      <td>02130</td>\n",
       "      <td>24047.0</td>\n",
       "      <td>1.901861e+09</td>\n",
       "      <td>2.939398e+06</td>\n",
       "      <td>759722.466377</td>\n",
       "      <td>42.313220</td>\n",
       "      <td>-71.117131</td>\n",
       "      <td>POINT (-71.117 42.313)</td>\n",
       "    </tr>\n",
       "    <tr>\n",
       "      <th>666482</th>\n",
       "      <td>U49996367</td>\n",
       "      <td>RESPAR</td>\n",
       "      <td>Use of Premises</td>\n",
       "      <td>Residential Parking</td>\n",
       "      <td>2 car parking</td>\n",
       "      <td>Cesar DaSilva</td>\n",
       "      <td>$7,000.00</td>\n",
       "      <td>$53.00</td>\n",
       "      <td>2023-04-10 15:10:24+00</td>\n",
       "      <td>2023-10-10 04:00:00+00</td>\n",
       "      <td>...</td>\n",
       "      <td>Dorchester</td>\n",
       "      <td>MA</td>\n",
       "      <td>02124</td>\n",
       "      <td>34863.0</td>\n",
       "      <td>1.701519e+09</td>\n",
       "      <td>2.931227e+06</td>\n",
       "      <td>771088.017082</td>\n",
       "      <td>42.290650</td>\n",
       "      <td>-71.075261</td>\n",
       "      <td>POINT (-71.075 42.291)</td>\n",
       "    </tr>\n",
       "    <tr>\n",
       "      <th>666483</th>\n",
       "      <td>U49996370</td>\n",
       "      <td>RESPAR</td>\n",
       "      <td>Use of Premises</td>\n",
       "      <td>Residential Parking</td>\n",
       "      <td>use of premises for;1 car parking with new dri...</td>\n",
       "      <td>Cesar DaSilva</td>\n",
       "      <td>$7,000.00</td>\n",
       "      <td>$62.00</td>\n",
       "      <td>2020-09-17 20:18:18+00</td>\n",
       "      <td>2021-03-17 04:00:00+00</td>\n",
       "      <td>...</td>\n",
       "      <td>Dorchester</td>\n",
       "      <td>MA</td>\n",
       "      <td>02124</td>\n",
       "      <td>2829.0</td>\n",
       "      <td>1.701099e+09</td>\n",
       "      <td>2.933255e+06</td>\n",
       "      <td>773050.220380</td>\n",
       "      <td>42.296190</td>\n",
       "      <td>-71.067971</td>\n",
       "      <td>POINT (-71.068 42.296)</td>\n",
       "    </tr>\n",
       "  </tbody>\n",
       "</table>\n",
       "<p>666232 rows × 24 columns</p>\n",
       "</div>"
      ],
      "text/plain": [
       "       permitnumber worktype           permittypedescr  \\\n",
       "0          A1000569   INTEXT  Amendment to a Long Form   \n",
       "1           A100071      COB  Amendment to a Long Form   \n",
       "2          A1001012    OTHER  Amendment to a Long Form   \n",
       "3          A1001201   INTEXT  Amendment to a Long Form   \n",
       "4           A100137   EXTREN  Amendment to a Long Form   \n",
       "...             ...      ...                       ...   \n",
       "666479    U49993435    OSEAT           Use of Premises   \n",
       "666480    U49993492   TEMTRL           Use of Premises   \n",
       "666481     U4999352    DRIVE           Use of Premises   \n",
       "666482    U49996367   RESPAR           Use of Premises   \n",
       "666483    U49996370   RESPAR           Use of Premises   \n",
       "\n",
       "                   description  \\\n",
       "0       Interior/Exterior Work   \n",
       "1               City of Boston   \n",
       "2                        Other   \n",
       "3       Interior/Exterior Work   \n",
       "4       Renovations - Exterior   \n",
       "...                        ...   \n",
       "666479         Outside Seating   \n",
       "666480      Temporary Trailers   \n",
       "666481   Driveway Installation   \n",
       "666482     Residential Parking   \n",
       "666483     Residential Parking   \n",
       "\n",
       "                                                 comments          applicant  \\\n",
       "0       This work is to Amend Permit ALT347244. Elimin...    Patrick Sharkey   \n",
       "1       Change connector link layout from attached enc...  Renee Santeusanio   \n",
       "2       Amend Alt943748 to erect a roof deck as per pl...   Jusimar Oliveria   \n",
       "3       Build steel balcony over garden level with sta...      Andreas Hwang   \n",
       "4       Landscaping/stonework - amending permit #2801/...                NaN   \n",
       "...                                                   ...                ...   \n",
       "666479  Outdoor patio / amenity space for commercial o...  Christine McMahon   \n",
       "666480  Temporary Construction Trailer at Herb Chamber...    Regina Olivieri   \n",
       "666481  Owners would like to install a curb cut and a ...    Maria Dubrowski   \n",
       "666482                                      2 car parking      Cesar DaSilva   \n",
       "666483  use of premises for;1 car parking with new dri...      Cesar DaSilva   \n",
       "\n",
       "       declared_valuation total_fees             issued_date  \\\n",
       "0              $36,500.00    $390.00  2021-01-28 16:29:26+00   \n",
       "1              $40,000.00     $29.00  2011-11-04 15:04:58+00   \n",
       "2               $5,000.00     $70.00  2020-06-01 18:08:47+00   \n",
       "3              $74,295.75    $803.00  2019-11-13 18:38:56+00   \n",
       "4              $15,000.00    $182.00  2013-01-03 19:13:09+00   \n",
       "...                   ...        ...                     ...   \n",
       "666479              $0.00     $50.00  2019-09-25 15:36:11+00   \n",
       "666480          $1,000.00     $53.00  2019-09-12 17:07:00+00   \n",
       "666481          $2,700.00     $53.00  2012-05-30 18:28:59+00   \n",
       "666482          $7,000.00     $53.00  2023-04-10 15:10:24+00   \n",
       "666483          $7,000.00     $62.00  2020-09-17 20:18:18+00   \n",
       "\n",
       "               expiration_date  ...           city state    zip property_id  \\\n",
       "0       2021-07-28 04:00:00+00  ...         Boston    MA  02109    130392.0   \n",
       "1       2012-05-04 04:00:00+00  ...   West Roxbury    MA  02132     17268.0   \n",
       "2                          NaN  ...    Charlestown    MA  02129    113443.0   \n",
       "3       2020-05-13 04:00:00+00  ...        Roxbury    MA  02118    129994.0   \n",
       "4       2013-07-03 04:00:00+00  ...       Brighton    MA  02135    149852.0   \n",
       "...                        ...  ...            ...   ...    ...         ...   \n",
       "666479  2020-03-25 04:00:00+00  ...         Boston    MA  02114    154961.0   \n",
       "666480  2020-03-12 04:00:00+00  ...        Allston    MA  02134    424193.0   \n",
       "666481  2012-11-30 05:00:00+00  ...  Jamaica Plain    MA  02130     24047.0   \n",
       "666482  2023-10-10 04:00:00+00  ...     Dorchester    MA  02124     34863.0   \n",
       "666483  2021-03-17 04:00:00+00  ...     Dorchester    MA  02124      2829.0   \n",
       "\n",
       "           parcel_id          gpsy           gpsx  y_latitude  x_longitude  \\\n",
       "0       3.038070e+08  2.956235e+06  777000.467910   42.359190   -71.052924   \n",
       "1       2.012032e+09  2.920239e+06  751016.119617   42.260750   -71.149611   \n",
       "2       2.028370e+08  2.962078e+06  775710.380595   42.375243   -71.057585   \n",
       "3       4.025580e+08  2.949423e+06  769648.312667   42.340600   -71.080251   \n",
       "4       2.204944e+09  2.950791e+06  749690.298777   42.344600   -71.154051   \n",
       "...              ...           ...            ...         ...          ...   \n",
       "666479  3.027170e+08  2.956658e+06  774864.862273   42.360383   -71.060818   \n",
       "666480  2.101574e+09  2.952823e+06  756414.438216   42.350100   -71.129145   \n",
       "666481  1.901861e+09  2.939398e+06  759722.466377   42.313220   -71.117131   \n",
       "666482  1.701519e+09  2.931227e+06  771088.017082   42.290650   -71.075261   \n",
       "666483  1.701099e+09  2.933255e+06  773050.220380   42.296190   -71.067971   \n",
       "\n",
       "                      geometry  \n",
       "0       POINT (-71.053 42.359)  \n",
       "1        POINT (-71.15 42.261)  \n",
       "2       POINT (-71.058 42.375)  \n",
       "3        POINT (-71.08 42.341)  \n",
       "4       POINT (-71.154 42.345)  \n",
       "...                        ...  \n",
       "666479   POINT (-71.061 42.36)  \n",
       "666480   POINT (-71.129 42.35)  \n",
       "666481  POINT (-71.117 42.313)  \n",
       "666482  POINT (-71.075 42.291)  \n",
       "666483  POINT (-71.068 42.296)  \n",
       "\n",
       "[666232 rows x 24 columns]"
      ]
     },
     "execution_count": 966,
     "metadata": {},
     "output_type": "execute_result"
    }
   ],
   "source": [
    "geometry = [Point(xy) for xy in zip(df['x_longitude'], df['y_latitude'])]\n",
    "gdf = gpd.GeoDataFrame(df, geometry=geometry, crs=\"EPSG:3857\")\n",
    "gdf = gdf.to_crs(\"EPSG:3857\")\n",
    "gdf"
   ]
  },
  {
   "cell_type": "code",
   "execution_count": 969,
   "metadata": {},
   "outputs": [],
   "source": [
    "district_shapefile = gpd.read_file(\"../data/city-council-district\")\n",
    "\n",
    "count = 0\n",
    "is_D7_addresses = []\n",
    "\n",
    "for row in df.itertuples(index=True, name=\"Row\"):\n",
    "    address_point = Point(row.x_longitude, row.y_latitude)\n",
    "    address_gdf = gpd.GeoDataFrame(geometry=[address_point], crs=\"EPSG:4326\")\n",
    "    address_gdf = address_gdf.to_crs(district_shapefile.crs)\n",
    "    result = gpd.sjoin(address_gdf, district_shapefile, how=\"left\", predicate=\"intersects\")\n",
    "\n",
    "    if result['DISTRICT'].values[0] == 7:\n",
    "        count += 1\n",
    "        is_D7_addresses.append(True)\n",
    "    else:\n",
    "        is_D7_addresses.append(False)"
   ]
  },
  {
   "cell_type": "code",
   "execution_count": 970,
   "metadata": {},
   "outputs": [
    {
     "name": "stdout",
     "output_type": "stream",
     "text": [
      "53150\n"
     ]
    }
   ],
   "source": [
    "print(count)"
   ]
  },
  {
   "cell_type": "code",
   "execution_count": 971,
   "metadata": {},
   "outputs": [
    {
     "data": {
      "text/html": [
       "<div>\n",
       "<style scoped>\n",
       "    .dataframe tbody tr th:only-of-type {\n",
       "        vertical-align: middle;\n",
       "    }\n",
       "\n",
       "    .dataframe tbody tr th {\n",
       "        vertical-align: top;\n",
       "    }\n",
       "\n",
       "    .dataframe thead th {\n",
       "        text-align: right;\n",
       "    }\n",
       "</style>\n",
       "<table border=\"1\" class=\"dataframe\">\n",
       "  <thead>\n",
       "    <tr style=\"text-align: right;\">\n",
       "      <th></th>\n",
       "      <th>permitnumber</th>\n",
       "      <th>worktype</th>\n",
       "      <th>permittypedescr</th>\n",
       "      <th>description</th>\n",
       "      <th>comments</th>\n",
       "      <th>applicant</th>\n",
       "      <th>declared_valuation</th>\n",
       "      <th>total_fees</th>\n",
       "      <th>issued_date</th>\n",
       "      <th>expiration_date</th>\n",
       "      <th>...</th>\n",
       "      <th>city</th>\n",
       "      <th>state</th>\n",
       "      <th>zip</th>\n",
       "      <th>property_id</th>\n",
       "      <th>parcel_id</th>\n",
       "      <th>gpsy</th>\n",
       "      <th>gpsx</th>\n",
       "      <th>y_latitude</th>\n",
       "      <th>x_longitude</th>\n",
       "      <th>is_d7</th>\n",
       "    </tr>\n",
       "  </thead>\n",
       "  <tbody>\n",
       "    <tr>\n",
       "      <th>0</th>\n",
       "      <td>A1000569</td>\n",
       "      <td>INTEXT</td>\n",
       "      <td>Amendment to a Long Form</td>\n",
       "      <td>Interior/Exterior Work</td>\n",
       "      <td>This work is to Amend Permit ALT347244. Elimin...</td>\n",
       "      <td>Patrick Sharkey</td>\n",
       "      <td>$36,500.00</td>\n",
       "      <td>$390.00</td>\n",
       "      <td>2021-01-28 16:29:26+00</td>\n",
       "      <td>2021-07-28 04:00:00+00</td>\n",
       "      <td>...</td>\n",
       "      <td>Boston</td>\n",
       "      <td>MA</td>\n",
       "      <td>02109</td>\n",
       "      <td>130392.0</td>\n",
       "      <td>3.038070e+08</td>\n",
       "      <td>2.956235e+06</td>\n",
       "      <td>777000.467910</td>\n",
       "      <td>42.359190</td>\n",
       "      <td>-71.052924</td>\n",
       "      <td>False</td>\n",
       "    </tr>\n",
       "    <tr>\n",
       "      <th>1</th>\n",
       "      <td>A100071</td>\n",
       "      <td>COB</td>\n",
       "      <td>Amendment to a Long Form</td>\n",
       "      <td>City of Boston</td>\n",
       "      <td>Change connector link layout from attached enc...</td>\n",
       "      <td>Renee Santeusanio</td>\n",
       "      <td>$40,000.00</td>\n",
       "      <td>$29.00</td>\n",
       "      <td>2011-11-04 15:04:58+00</td>\n",
       "      <td>2012-05-04 04:00:00+00</td>\n",
       "      <td>...</td>\n",
       "      <td>West Roxbury</td>\n",
       "      <td>MA</td>\n",
       "      <td>02132</td>\n",
       "      <td>17268.0</td>\n",
       "      <td>2.012032e+09</td>\n",
       "      <td>2.920239e+06</td>\n",
       "      <td>751016.119617</td>\n",
       "      <td>42.260750</td>\n",
       "      <td>-71.149611</td>\n",
       "      <td>False</td>\n",
       "    </tr>\n",
       "    <tr>\n",
       "      <th>2</th>\n",
       "      <td>A1001012</td>\n",
       "      <td>OTHER</td>\n",
       "      <td>Amendment to a Long Form</td>\n",
       "      <td>Other</td>\n",
       "      <td>Amend Alt943748 to erect a roof deck as per pl...</td>\n",
       "      <td>Jusimar Oliveria</td>\n",
       "      <td>$5,000.00</td>\n",
       "      <td>$70.00</td>\n",
       "      <td>2020-06-01 18:08:47+00</td>\n",
       "      <td>NaN</td>\n",
       "      <td>...</td>\n",
       "      <td>Charlestown</td>\n",
       "      <td>MA</td>\n",
       "      <td>02129</td>\n",
       "      <td>113443.0</td>\n",
       "      <td>2.028370e+08</td>\n",
       "      <td>2.962078e+06</td>\n",
       "      <td>775710.380595</td>\n",
       "      <td>42.375243</td>\n",
       "      <td>-71.057585</td>\n",
       "      <td>False</td>\n",
       "    </tr>\n",
       "    <tr>\n",
       "      <th>3</th>\n",
       "      <td>A1001201</td>\n",
       "      <td>INTEXT</td>\n",
       "      <td>Amendment to a Long Form</td>\n",
       "      <td>Interior/Exterior Work</td>\n",
       "      <td>Build steel balcony over garden level with sta...</td>\n",
       "      <td>Andreas Hwang</td>\n",
       "      <td>$74,295.75</td>\n",
       "      <td>$803.00</td>\n",
       "      <td>2019-11-13 18:38:56+00</td>\n",
       "      <td>2020-05-13 04:00:00+00</td>\n",
       "      <td>...</td>\n",
       "      <td>Roxbury</td>\n",
       "      <td>MA</td>\n",
       "      <td>02118</td>\n",
       "      <td>129994.0</td>\n",
       "      <td>4.025580e+08</td>\n",
       "      <td>2.949423e+06</td>\n",
       "      <td>769648.312667</td>\n",
       "      <td>42.340600</td>\n",
       "      <td>-71.080251</td>\n",
       "      <td>True</td>\n",
       "    </tr>\n",
       "    <tr>\n",
       "      <th>4</th>\n",
       "      <td>A100137</td>\n",
       "      <td>EXTREN</td>\n",
       "      <td>Amendment to a Long Form</td>\n",
       "      <td>Renovations - Exterior</td>\n",
       "      <td>Landscaping/stonework - amending permit #2801/...</td>\n",
       "      <td>NaN</td>\n",
       "      <td>$15,000.00</td>\n",
       "      <td>$182.00</td>\n",
       "      <td>2013-01-03 19:13:09+00</td>\n",
       "      <td>2013-07-03 04:00:00+00</td>\n",
       "      <td>...</td>\n",
       "      <td>Brighton</td>\n",
       "      <td>MA</td>\n",
       "      <td>02135</td>\n",
       "      <td>149852.0</td>\n",
       "      <td>2.204944e+09</td>\n",
       "      <td>2.950791e+06</td>\n",
       "      <td>749690.298777</td>\n",
       "      <td>42.344600</td>\n",
       "      <td>-71.154051</td>\n",
       "      <td>False</td>\n",
       "    </tr>\n",
       "    <tr>\n",
       "      <th>...</th>\n",
       "      <td>...</td>\n",
       "      <td>...</td>\n",
       "      <td>...</td>\n",
       "      <td>...</td>\n",
       "      <td>...</td>\n",
       "      <td>...</td>\n",
       "      <td>...</td>\n",
       "      <td>...</td>\n",
       "      <td>...</td>\n",
       "      <td>...</td>\n",
       "      <td>...</td>\n",
       "      <td>...</td>\n",
       "      <td>...</td>\n",
       "      <td>...</td>\n",
       "      <td>...</td>\n",
       "      <td>...</td>\n",
       "      <td>...</td>\n",
       "      <td>...</td>\n",
       "      <td>...</td>\n",
       "      <td>...</td>\n",
       "      <td>...</td>\n",
       "    </tr>\n",
       "    <tr>\n",
       "      <th>666479</th>\n",
       "      <td>U49993435</td>\n",
       "      <td>OSEAT</td>\n",
       "      <td>Use of Premises</td>\n",
       "      <td>Outside Seating</td>\n",
       "      <td>Outdoor patio / amenity space for commercial o...</td>\n",
       "      <td>Christine McMahon</td>\n",
       "      <td>$0.00</td>\n",
       "      <td>$50.00</td>\n",
       "      <td>2019-09-25 15:36:11+00</td>\n",
       "      <td>2020-03-25 04:00:00+00</td>\n",
       "      <td>...</td>\n",
       "      <td>Boston</td>\n",
       "      <td>MA</td>\n",
       "      <td>02114</td>\n",
       "      <td>154961.0</td>\n",
       "      <td>3.027170e+08</td>\n",
       "      <td>2.956658e+06</td>\n",
       "      <td>774864.862273</td>\n",
       "      <td>42.360383</td>\n",
       "      <td>-71.060818</td>\n",
       "      <td>False</td>\n",
       "    </tr>\n",
       "    <tr>\n",
       "      <th>666480</th>\n",
       "      <td>U49993492</td>\n",
       "      <td>TEMTRL</td>\n",
       "      <td>Use of Premises</td>\n",
       "      <td>Temporary Trailers</td>\n",
       "      <td>Temporary Construction Trailer at Herb Chamber...</td>\n",
       "      <td>Regina Olivieri</td>\n",
       "      <td>$1,000.00</td>\n",
       "      <td>$53.00</td>\n",
       "      <td>2019-09-12 17:07:00+00</td>\n",
       "      <td>2020-03-12 04:00:00+00</td>\n",
       "      <td>...</td>\n",
       "      <td>Allston</td>\n",
       "      <td>MA</td>\n",
       "      <td>02134</td>\n",
       "      <td>424193.0</td>\n",
       "      <td>2.101574e+09</td>\n",
       "      <td>2.952823e+06</td>\n",
       "      <td>756414.438216</td>\n",
       "      <td>42.350100</td>\n",
       "      <td>-71.129145</td>\n",
       "      <td>False</td>\n",
       "    </tr>\n",
       "    <tr>\n",
       "      <th>666481</th>\n",
       "      <td>U4999352</td>\n",
       "      <td>DRIVE</td>\n",
       "      <td>Use of Premises</td>\n",
       "      <td>Driveway Installation</td>\n",
       "      <td>Owners would like to install a curb cut and a ...</td>\n",
       "      <td>Maria Dubrowski</td>\n",
       "      <td>$2,700.00</td>\n",
       "      <td>$53.00</td>\n",
       "      <td>2012-05-30 18:28:59+00</td>\n",
       "      <td>2012-11-30 05:00:00+00</td>\n",
       "      <td>...</td>\n",
       "      <td>Jamaica Plain</td>\n",
       "      <td>MA</td>\n",
       "      <td>02130</td>\n",
       "      <td>24047.0</td>\n",
       "      <td>1.901861e+09</td>\n",
       "      <td>2.939398e+06</td>\n",
       "      <td>759722.466377</td>\n",
       "      <td>42.313220</td>\n",
       "      <td>-71.117131</td>\n",
       "      <td>False</td>\n",
       "    </tr>\n",
       "    <tr>\n",
       "      <th>666482</th>\n",
       "      <td>U49996367</td>\n",
       "      <td>RESPAR</td>\n",
       "      <td>Use of Premises</td>\n",
       "      <td>Residential Parking</td>\n",
       "      <td>2 car parking</td>\n",
       "      <td>Cesar DaSilva</td>\n",
       "      <td>$7,000.00</td>\n",
       "      <td>$53.00</td>\n",
       "      <td>2023-04-10 15:10:24+00</td>\n",
       "      <td>2023-10-10 04:00:00+00</td>\n",
       "      <td>...</td>\n",
       "      <td>Dorchester</td>\n",
       "      <td>MA</td>\n",
       "      <td>02124</td>\n",
       "      <td>34863.0</td>\n",
       "      <td>1.701519e+09</td>\n",
       "      <td>2.931227e+06</td>\n",
       "      <td>771088.017082</td>\n",
       "      <td>42.290650</td>\n",
       "      <td>-71.075261</td>\n",
       "      <td>False</td>\n",
       "    </tr>\n",
       "    <tr>\n",
       "      <th>666483</th>\n",
       "      <td>U49996370</td>\n",
       "      <td>RESPAR</td>\n",
       "      <td>Use of Premises</td>\n",
       "      <td>Residential Parking</td>\n",
       "      <td>use of premises for;1 car parking with new dri...</td>\n",
       "      <td>Cesar DaSilva</td>\n",
       "      <td>$7,000.00</td>\n",
       "      <td>$62.00</td>\n",
       "      <td>2020-09-17 20:18:18+00</td>\n",
       "      <td>2021-03-17 04:00:00+00</td>\n",
       "      <td>...</td>\n",
       "      <td>Dorchester</td>\n",
       "      <td>MA</td>\n",
       "      <td>02124</td>\n",
       "      <td>2829.0</td>\n",
       "      <td>1.701099e+09</td>\n",
       "      <td>2.933255e+06</td>\n",
       "      <td>773050.220380</td>\n",
       "      <td>42.296190</td>\n",
       "      <td>-71.067971</td>\n",
       "      <td>False</td>\n",
       "    </tr>\n",
       "  </tbody>\n",
       "</table>\n",
       "<p>666232 rows × 24 columns</p>\n",
       "</div>"
      ],
      "text/plain": [
       "       permitnumber worktype           permittypedescr  \\\n",
       "0          A1000569   INTEXT  Amendment to a Long Form   \n",
       "1           A100071      COB  Amendment to a Long Form   \n",
       "2          A1001012    OTHER  Amendment to a Long Form   \n",
       "3          A1001201   INTEXT  Amendment to a Long Form   \n",
       "4           A100137   EXTREN  Amendment to a Long Form   \n",
       "...             ...      ...                       ...   \n",
       "666479    U49993435    OSEAT           Use of Premises   \n",
       "666480    U49993492   TEMTRL           Use of Premises   \n",
       "666481     U4999352    DRIVE           Use of Premises   \n",
       "666482    U49996367   RESPAR           Use of Premises   \n",
       "666483    U49996370   RESPAR           Use of Premises   \n",
       "\n",
       "                   description  \\\n",
       "0       Interior/Exterior Work   \n",
       "1               City of Boston   \n",
       "2                        Other   \n",
       "3       Interior/Exterior Work   \n",
       "4       Renovations - Exterior   \n",
       "...                        ...   \n",
       "666479         Outside Seating   \n",
       "666480      Temporary Trailers   \n",
       "666481   Driveway Installation   \n",
       "666482     Residential Parking   \n",
       "666483     Residential Parking   \n",
       "\n",
       "                                                 comments          applicant  \\\n",
       "0       This work is to Amend Permit ALT347244. Elimin...    Patrick Sharkey   \n",
       "1       Change connector link layout from attached enc...  Renee Santeusanio   \n",
       "2       Amend Alt943748 to erect a roof deck as per pl...   Jusimar Oliveria   \n",
       "3       Build steel balcony over garden level with sta...      Andreas Hwang   \n",
       "4       Landscaping/stonework - amending permit #2801/...                NaN   \n",
       "...                                                   ...                ...   \n",
       "666479  Outdoor patio / amenity space for commercial o...  Christine McMahon   \n",
       "666480  Temporary Construction Trailer at Herb Chamber...    Regina Olivieri   \n",
       "666481  Owners would like to install a curb cut and a ...    Maria Dubrowski   \n",
       "666482                                      2 car parking      Cesar DaSilva   \n",
       "666483  use of premises for;1 car parking with new dri...      Cesar DaSilva   \n",
       "\n",
       "       declared_valuation total_fees             issued_date  \\\n",
       "0              $36,500.00    $390.00  2021-01-28 16:29:26+00   \n",
       "1              $40,000.00     $29.00  2011-11-04 15:04:58+00   \n",
       "2               $5,000.00     $70.00  2020-06-01 18:08:47+00   \n",
       "3              $74,295.75    $803.00  2019-11-13 18:38:56+00   \n",
       "4              $15,000.00    $182.00  2013-01-03 19:13:09+00   \n",
       "...                   ...        ...                     ...   \n",
       "666479              $0.00     $50.00  2019-09-25 15:36:11+00   \n",
       "666480          $1,000.00     $53.00  2019-09-12 17:07:00+00   \n",
       "666481          $2,700.00     $53.00  2012-05-30 18:28:59+00   \n",
       "666482          $7,000.00     $53.00  2023-04-10 15:10:24+00   \n",
       "666483          $7,000.00     $62.00  2020-09-17 20:18:18+00   \n",
       "\n",
       "               expiration_date  ...           city state    zip property_id  \\\n",
       "0       2021-07-28 04:00:00+00  ...         Boston    MA  02109    130392.0   \n",
       "1       2012-05-04 04:00:00+00  ...   West Roxbury    MA  02132     17268.0   \n",
       "2                          NaN  ...    Charlestown    MA  02129    113443.0   \n",
       "3       2020-05-13 04:00:00+00  ...        Roxbury    MA  02118    129994.0   \n",
       "4       2013-07-03 04:00:00+00  ...       Brighton    MA  02135    149852.0   \n",
       "...                        ...  ...            ...   ...    ...         ...   \n",
       "666479  2020-03-25 04:00:00+00  ...         Boston    MA  02114    154961.0   \n",
       "666480  2020-03-12 04:00:00+00  ...        Allston    MA  02134    424193.0   \n",
       "666481  2012-11-30 05:00:00+00  ...  Jamaica Plain    MA  02130     24047.0   \n",
       "666482  2023-10-10 04:00:00+00  ...     Dorchester    MA  02124     34863.0   \n",
       "666483  2021-03-17 04:00:00+00  ...     Dorchester    MA  02124      2829.0   \n",
       "\n",
       "           parcel_id          gpsy           gpsx  y_latitude  x_longitude  \\\n",
       "0       3.038070e+08  2.956235e+06  777000.467910   42.359190   -71.052924   \n",
       "1       2.012032e+09  2.920239e+06  751016.119617   42.260750   -71.149611   \n",
       "2       2.028370e+08  2.962078e+06  775710.380595   42.375243   -71.057585   \n",
       "3       4.025580e+08  2.949423e+06  769648.312667   42.340600   -71.080251   \n",
       "4       2.204944e+09  2.950791e+06  749690.298777   42.344600   -71.154051   \n",
       "...              ...           ...            ...         ...          ...   \n",
       "666479  3.027170e+08  2.956658e+06  774864.862273   42.360383   -71.060818   \n",
       "666480  2.101574e+09  2.952823e+06  756414.438216   42.350100   -71.129145   \n",
       "666481  1.901861e+09  2.939398e+06  759722.466377   42.313220   -71.117131   \n",
       "666482  1.701519e+09  2.931227e+06  771088.017082   42.290650   -71.075261   \n",
       "666483  1.701099e+09  2.933255e+06  773050.220380   42.296190   -71.067971   \n",
       "\n",
       "        is_d7  \n",
       "0       False  \n",
       "1       False  \n",
       "2       False  \n",
       "3        True  \n",
       "4       False  \n",
       "...       ...  \n",
       "666479  False  \n",
       "666480  False  \n",
       "666481  False  \n",
       "666482  False  \n",
       "666483  False  \n",
       "\n",
       "[666232 rows x 24 columns]"
      ]
     },
     "execution_count": 971,
     "metadata": {},
     "output_type": "execute_result"
    }
   ],
   "source": [
    "df['is_d7'] = is_D7_addresses\n",
    "df"
   ]
  },
  {
   "cell_type": "code",
   "execution_count": 972,
   "metadata": {},
   "outputs": [],
   "source": [
    "df.to_csv(\"../data/d7-approved_building-permit-new.csv\", index=False)"
   ]
  },
  {
   "cell_type": "code",
   "execution_count": null,
   "metadata": {},
   "outputs": [],
   "source": []
  }
 ],
 "metadata": {
  "kernelspec": {
   "display_name": ".venv",
   "language": "python",
   "name": "python3"
  },
  "language_info": {
   "codemirror_mode": {
    "name": "ipython",
    "version": 3
   },
   "file_extension": ".py",
   "mimetype": "text/x-python",
   "name": "python",
   "nbconvert_exporter": "python",
   "pygments_lexer": "ipython3",
   "version": "3.13.0"
  }
 },
 "nbformat": 4,
 "nbformat_minor": 2
}
